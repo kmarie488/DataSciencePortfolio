{
 "cells": [
  {
   "cell_type": "markdown",
   "metadata": {},
   "source": [
    "# Detecting Credit Card Fraud\n",
    "It is important that credit card companies are able to recognize fraudulent credit card transactions so that customers are not charged for items that they did not purchase. The datasets contains transactions made by credit cards in September 2013 by european cardholders. This dataset presents transactions that occurred in two days, where we have 492 frauds out of 284,807 transactions. The dataset is highly unbalanced, the positive class (frauds) account for 0.172% of all transactions. The goal of this project is to build a model able to recognize fraudulent credit card transactions. More info [here](https://www.kaggle.com/mlg-ulb/creditcardfraud)."
   ]
  },
  {
   "cell_type": "code",
   "execution_count": 1,
   "metadata": {},
   "outputs": [],
   "source": [
    "#import packages\n",
    "import pandas as pd\n",
    "import matplotlib.pyplot as plt\n",
    "import seaborn as sns\n",
    "import numpy as np\n",
    "from screeplot import scree as sp\n",
    "from sklearn.utils import resample\n",
    "from sklearn.linear_model import LogisticRegression\n",
    "from sklearn.ensemble import RandomForestClassifier\n",
    "from sklearn.metrics import accuracy_score, classification_report, confusion_matrix\n",
    "from sklearn.model_selection import GridSearchCV\n",
    "from sklearn.preprocessing import StandardScaler"
   ]
  },
  {
   "cell_type": "markdown",
   "metadata": {},
   "source": [
    "## Exploratory Data Analysis "
   ]
  },
  {
   "cell_type": "code",
   "execution_count": 2,
   "metadata": {},
   "outputs": [
    {
     "data": {
      "text/html": [
       "<div>\n",
       "<style scoped>\n",
       "    .dataframe tbody tr th:only-of-type {\n",
       "        vertical-align: middle;\n",
       "    }\n",
       "\n",
       "    .dataframe tbody tr th {\n",
       "        vertical-align: top;\n",
       "    }\n",
       "\n",
       "    .dataframe thead th {\n",
       "        text-align: right;\n",
       "    }\n",
       "</style>\n",
       "<table border=\"1\" class=\"dataframe\">\n",
       "  <thead>\n",
       "    <tr style=\"text-align: right;\">\n",
       "      <th></th>\n",
       "      <th>Time</th>\n",
       "      <th>V1</th>\n",
       "      <th>V2</th>\n",
       "      <th>V3</th>\n",
       "      <th>V4</th>\n",
       "      <th>V5</th>\n",
       "      <th>V6</th>\n",
       "      <th>V7</th>\n",
       "      <th>V8</th>\n",
       "      <th>V9</th>\n",
       "      <th>...</th>\n",
       "      <th>V21</th>\n",
       "      <th>V22</th>\n",
       "      <th>V23</th>\n",
       "      <th>V24</th>\n",
       "      <th>V25</th>\n",
       "      <th>V26</th>\n",
       "      <th>V27</th>\n",
       "      <th>V28</th>\n",
       "      <th>Amount</th>\n",
       "      <th>Class</th>\n",
       "    </tr>\n",
       "  </thead>\n",
       "  <tbody>\n",
       "    <tr>\n",
       "      <th>0</th>\n",
       "      <td>0.0</td>\n",
       "      <td>-1.359807</td>\n",
       "      <td>-0.072781</td>\n",
       "      <td>2.536347</td>\n",
       "      <td>1.378155</td>\n",
       "      <td>-0.338321</td>\n",
       "      <td>0.462388</td>\n",
       "      <td>0.239599</td>\n",
       "      <td>0.098698</td>\n",
       "      <td>0.363787</td>\n",
       "      <td>...</td>\n",
       "      <td>-0.018307</td>\n",
       "      <td>0.277838</td>\n",
       "      <td>-0.110474</td>\n",
       "      <td>0.066928</td>\n",
       "      <td>0.128539</td>\n",
       "      <td>-0.189115</td>\n",
       "      <td>0.133558</td>\n",
       "      <td>-0.021053</td>\n",
       "      <td>149.62</td>\n",
       "      <td>0</td>\n",
       "    </tr>\n",
       "    <tr>\n",
       "      <th>1</th>\n",
       "      <td>0.0</td>\n",
       "      <td>1.191857</td>\n",
       "      <td>0.266151</td>\n",
       "      <td>0.166480</td>\n",
       "      <td>0.448154</td>\n",
       "      <td>0.060018</td>\n",
       "      <td>-0.082361</td>\n",
       "      <td>-0.078803</td>\n",
       "      <td>0.085102</td>\n",
       "      <td>-0.255425</td>\n",
       "      <td>...</td>\n",
       "      <td>-0.225775</td>\n",
       "      <td>-0.638672</td>\n",
       "      <td>0.101288</td>\n",
       "      <td>-0.339846</td>\n",
       "      <td>0.167170</td>\n",
       "      <td>0.125895</td>\n",
       "      <td>-0.008983</td>\n",
       "      <td>0.014724</td>\n",
       "      <td>2.69</td>\n",
       "      <td>0</td>\n",
       "    </tr>\n",
       "    <tr>\n",
       "      <th>2</th>\n",
       "      <td>1.0</td>\n",
       "      <td>-1.358354</td>\n",
       "      <td>-1.340163</td>\n",
       "      <td>1.773209</td>\n",
       "      <td>0.379780</td>\n",
       "      <td>-0.503198</td>\n",
       "      <td>1.800499</td>\n",
       "      <td>0.791461</td>\n",
       "      <td>0.247676</td>\n",
       "      <td>-1.514654</td>\n",
       "      <td>...</td>\n",
       "      <td>0.247998</td>\n",
       "      <td>0.771679</td>\n",
       "      <td>0.909412</td>\n",
       "      <td>-0.689281</td>\n",
       "      <td>-0.327642</td>\n",
       "      <td>-0.139097</td>\n",
       "      <td>-0.055353</td>\n",
       "      <td>-0.059752</td>\n",
       "      <td>378.66</td>\n",
       "      <td>0</td>\n",
       "    </tr>\n",
       "    <tr>\n",
       "      <th>3</th>\n",
       "      <td>1.0</td>\n",
       "      <td>-0.966272</td>\n",
       "      <td>-0.185226</td>\n",
       "      <td>1.792993</td>\n",
       "      <td>-0.863291</td>\n",
       "      <td>-0.010309</td>\n",
       "      <td>1.247203</td>\n",
       "      <td>0.237609</td>\n",
       "      <td>0.377436</td>\n",
       "      <td>-1.387024</td>\n",
       "      <td>...</td>\n",
       "      <td>-0.108300</td>\n",
       "      <td>0.005274</td>\n",
       "      <td>-0.190321</td>\n",
       "      <td>-1.175575</td>\n",
       "      <td>0.647376</td>\n",
       "      <td>-0.221929</td>\n",
       "      <td>0.062723</td>\n",
       "      <td>0.061458</td>\n",
       "      <td>123.50</td>\n",
       "      <td>0</td>\n",
       "    </tr>\n",
       "    <tr>\n",
       "      <th>4</th>\n",
       "      <td>2.0</td>\n",
       "      <td>-1.158233</td>\n",
       "      <td>0.877737</td>\n",
       "      <td>1.548718</td>\n",
       "      <td>0.403034</td>\n",
       "      <td>-0.407193</td>\n",
       "      <td>0.095921</td>\n",
       "      <td>0.592941</td>\n",
       "      <td>-0.270533</td>\n",
       "      <td>0.817739</td>\n",
       "      <td>...</td>\n",
       "      <td>-0.009431</td>\n",
       "      <td>0.798278</td>\n",
       "      <td>-0.137458</td>\n",
       "      <td>0.141267</td>\n",
       "      <td>-0.206010</td>\n",
       "      <td>0.502292</td>\n",
       "      <td>0.219422</td>\n",
       "      <td>0.215153</td>\n",
       "      <td>69.99</td>\n",
       "      <td>0</td>\n",
       "    </tr>\n",
       "  </tbody>\n",
       "</table>\n",
       "<p>5 rows × 31 columns</p>\n",
       "</div>"
      ],
      "text/plain": [
       "   Time        V1        V2        V3        V4        V5        V6        V7  \\\n",
       "0   0.0 -1.359807 -0.072781  2.536347  1.378155 -0.338321  0.462388  0.239599   \n",
       "1   0.0  1.191857  0.266151  0.166480  0.448154  0.060018 -0.082361 -0.078803   \n",
       "2   1.0 -1.358354 -1.340163  1.773209  0.379780 -0.503198  1.800499  0.791461   \n",
       "3   1.0 -0.966272 -0.185226  1.792993 -0.863291 -0.010309  1.247203  0.237609   \n",
       "4   2.0 -1.158233  0.877737  1.548718  0.403034 -0.407193  0.095921  0.592941   \n",
       "\n",
       "         V8        V9  ...       V21       V22       V23       V24       V25  \\\n",
       "0  0.098698  0.363787  ... -0.018307  0.277838 -0.110474  0.066928  0.128539   \n",
       "1  0.085102 -0.255425  ... -0.225775 -0.638672  0.101288 -0.339846  0.167170   \n",
       "2  0.247676 -1.514654  ...  0.247998  0.771679  0.909412 -0.689281 -0.327642   \n",
       "3  0.377436 -1.387024  ... -0.108300  0.005274 -0.190321 -1.175575  0.647376   \n",
       "4 -0.270533  0.817739  ... -0.009431  0.798278 -0.137458  0.141267 -0.206010   \n",
       "\n",
       "        V26       V27       V28  Amount  Class  \n",
       "0 -0.189115  0.133558 -0.021053  149.62      0  \n",
       "1  0.125895 -0.008983  0.014724    2.69      0  \n",
       "2 -0.139097 -0.055353 -0.059752  378.66      0  \n",
       "3 -0.221929  0.062723  0.061458  123.50      0  \n",
       "4  0.502292  0.219422  0.215153   69.99      0  \n",
       "\n",
       "[5 rows x 31 columns]"
      ]
     },
     "execution_count": 2,
     "metadata": {},
     "output_type": "execute_result"
    }
   ],
   "source": [
    "#load dataset a\n",
    "transactions_a = pd.read_csv(\"https://raw.githubusercontent.com/emmanueliarussi/DataScienceCapstone/master/3_MidtermProjects/ProjectCCF/data/creditcard_a.csv\")\n",
    "transactions_a.head()"
   ]
  },
  {
   "cell_type": "code",
   "execution_count": 3,
   "metadata": {},
   "outputs": [
    {
     "data": {
      "text/html": [
       "<div>\n",
       "<style scoped>\n",
       "    .dataframe tbody tr th:only-of-type {\n",
       "        vertical-align: middle;\n",
       "    }\n",
       "\n",
       "    .dataframe tbody tr th {\n",
       "        vertical-align: top;\n",
       "    }\n",
       "\n",
       "    .dataframe thead th {\n",
       "        text-align: right;\n",
       "    }\n",
       "</style>\n",
       "<table border=\"1\" class=\"dataframe\">\n",
       "  <thead>\n",
       "    <tr style=\"text-align: right;\">\n",
       "      <th></th>\n",
       "      <th>Time</th>\n",
       "      <th>V1</th>\n",
       "      <th>V2</th>\n",
       "      <th>V3</th>\n",
       "      <th>V4</th>\n",
       "      <th>V5</th>\n",
       "      <th>V6</th>\n",
       "      <th>V7</th>\n",
       "      <th>V8</th>\n",
       "      <th>V9</th>\n",
       "      <th>...</th>\n",
       "      <th>V21</th>\n",
       "      <th>V22</th>\n",
       "      <th>V23</th>\n",
       "      <th>V24</th>\n",
       "      <th>V25</th>\n",
       "      <th>V26</th>\n",
       "      <th>V27</th>\n",
       "      <th>V28</th>\n",
       "      <th>Amount</th>\n",
       "      <th>Class</th>\n",
       "    </tr>\n",
       "  </thead>\n",
       "  <tbody>\n",
       "    <tr>\n",
       "      <th>0</th>\n",
       "      <td>127895</td>\n",
       "      <td>0.155432</td>\n",
       "      <td>-0.513165</td>\n",
       "      <td>0.348025</td>\n",
       "      <td>-2.290819</td>\n",
       "      <td>0.412328</td>\n",
       "      <td>0.537240</td>\n",
       "      <td>0.076755</td>\n",
       "      <td>-0.072367</td>\n",
       "      <td>-0.343188</td>\n",
       "      <td>...</td>\n",
       "      <td>-0.228727</td>\n",
       "      <td>0.264679</td>\n",
       "      <td>0.154866</td>\n",
       "      <td>-1.067183</td>\n",
       "      <td>-1.192413</td>\n",
       "      <td>0.735726</td>\n",
       "      <td>-0.154075</td>\n",
       "      <td>-0.200072</td>\n",
       "      <td>30.43</td>\n",
       "      <td>0</td>\n",
       "    </tr>\n",
       "    <tr>\n",
       "      <th>1</th>\n",
       "      <td>127895</td>\n",
       "      <td>0.144968</td>\n",
       "      <td>0.984625</td>\n",
       "      <td>-0.469259</td>\n",
       "      <td>-0.559418</td>\n",
       "      <td>0.898427</td>\n",
       "      <td>-0.774439</td>\n",
       "      <td>0.966555</td>\n",
       "      <td>-0.079312</td>\n",
       "      <td>0.029686</td>\n",
       "      <td>...</td>\n",
       "      <td>-0.350727</td>\n",
       "      <td>-0.894781</td>\n",
       "      <td>0.103029</td>\n",
       "      <td>0.458925</td>\n",
       "      <td>-0.419840</td>\n",
       "      <td>0.120432</td>\n",
       "      <td>0.216811</td>\n",
       "      <td>0.082648</td>\n",
       "      <td>9.98</td>\n",
       "      <td>0</td>\n",
       "    </tr>\n",
       "    <tr>\n",
       "      <th>2</th>\n",
       "      <td>127895</td>\n",
       "      <td>-0.611349</td>\n",
       "      <td>1.283775</td>\n",
       "      <td>-1.974043</td>\n",
       "      <td>-1.655406</td>\n",
       "      <td>2.984231</td>\n",
       "      <td>3.506069</td>\n",
       "      <td>-0.214317</td>\n",
       "      <td>-0.632051</td>\n",
       "      <td>0.167111</td>\n",
       "      <td>...</td>\n",
       "      <td>1.160112</td>\n",
       "      <td>-1.450777</td>\n",
       "      <td>0.343309</td>\n",
       "      <td>0.560751</td>\n",
       "      <td>-0.335527</td>\n",
       "      <td>0.181544</td>\n",
       "      <td>0.424852</td>\n",
       "      <td>0.145803</td>\n",
       "      <td>1.98</td>\n",
       "      <td>0</td>\n",
       "    </tr>\n",
       "    <tr>\n",
       "      <th>3</th>\n",
       "      <td>127895</td>\n",
       "      <td>1.836002</td>\n",
       "      <td>-1.291509</td>\n",
       "      <td>-1.777315</td>\n",
       "      <td>-0.937930</td>\n",
       "      <td>-0.474535</td>\n",
       "      <td>-0.957642</td>\n",
       "      <td>0.010062</td>\n",
       "      <td>-0.324263</td>\n",
       "      <td>-0.882252</td>\n",
       "      <td>...</td>\n",
       "      <td>0.190313</td>\n",
       "      <td>-0.002319</td>\n",
       "      <td>-0.013476</td>\n",
       "      <td>-0.410082</td>\n",
       "      <td>-0.131701</td>\n",
       "      <td>-0.329364</td>\n",
       "      <td>-0.092481</td>\n",
       "      <td>-0.042942</td>\n",
       "      <td>210.00</td>\n",
       "      <td>0</td>\n",
       "    </tr>\n",
       "    <tr>\n",
       "      <th>4</th>\n",
       "      <td>127895</td>\n",
       "      <td>2.013508</td>\n",
       "      <td>0.171357</td>\n",
       "      <td>-2.245188</td>\n",
       "      <td>0.936324</td>\n",
       "      <td>0.243521</td>\n",
       "      <td>-1.389765</td>\n",
       "      <td>0.106378</td>\n",
       "      <td>-0.197682</td>\n",
       "      <td>1.011673</td>\n",
       "      <td>...</td>\n",
       "      <td>-0.036278</td>\n",
       "      <td>0.138471</td>\n",
       "      <td>-0.027367</td>\n",
       "      <td>-0.273424</td>\n",
       "      <td>0.133993</td>\n",
       "      <td>0.739868</td>\n",
       "      <td>-0.046538</td>\n",
       "      <td>-0.016684</td>\n",
       "      <td>12.31</td>\n",
       "      <td>0</td>\n",
       "    </tr>\n",
       "  </tbody>\n",
       "</table>\n",
       "<p>5 rows × 31 columns</p>\n",
       "</div>"
      ],
      "text/plain": [
       "     Time        V1        V2        V3        V4        V5        V6  \\\n",
       "0  127895  0.155432 -0.513165  0.348025 -2.290819  0.412328  0.537240   \n",
       "1  127895  0.144968  0.984625 -0.469259 -0.559418  0.898427 -0.774439   \n",
       "2  127895 -0.611349  1.283775 -1.974043 -1.655406  2.984231  3.506069   \n",
       "3  127895  1.836002 -1.291509 -1.777315 -0.937930 -0.474535 -0.957642   \n",
       "4  127895  2.013508  0.171357 -2.245188  0.936324  0.243521 -1.389765   \n",
       "\n",
       "         V7        V8        V9  ...       V21       V22       V23       V24  \\\n",
       "0  0.076755 -0.072367 -0.343188  ... -0.228727  0.264679  0.154866 -1.067183   \n",
       "1  0.966555 -0.079312  0.029686  ... -0.350727 -0.894781  0.103029  0.458925   \n",
       "2 -0.214317 -0.632051  0.167111  ...  1.160112 -1.450777  0.343309  0.560751   \n",
       "3  0.010062 -0.324263 -0.882252  ...  0.190313 -0.002319 -0.013476 -0.410082   \n",
       "4  0.106378 -0.197682  1.011673  ... -0.036278  0.138471 -0.027367 -0.273424   \n",
       "\n",
       "        V25       V26       V27       V28  Amount  Class  \n",
       "0 -1.192413  0.735726 -0.154075 -0.200072   30.43      0  \n",
       "1 -0.419840  0.120432  0.216811  0.082648    9.98      0  \n",
       "2 -0.335527  0.181544  0.424852  0.145803    1.98      0  \n",
       "3 -0.131701 -0.329364 -0.092481 -0.042942  210.00      0  \n",
       "4  0.133993  0.739868 -0.046538 -0.016684   12.31      0  \n",
       "\n",
       "[5 rows x 31 columns]"
      ]
     },
     "execution_count": 3,
     "metadata": {},
     "output_type": "execute_result"
    }
   ],
   "source": [
    "#load dataset b\n",
    "transactions_b = pd.read_csv(\"https://raw.githubusercontent.com/emmanueliarussi/DataScienceCapstone/master/3_MidtermProjects/ProjectCCF/data/creditcard_b.csv\")\n",
    "transactions_b.head()"
   ]
  },
  {
   "cell_type": "code",
   "execution_count": 4,
   "metadata": {},
   "outputs": [
    {
     "name": "stdout",
     "output_type": "stream",
     "text": [
      "(188261, 31)\n",
      "(96546, 31)\n"
     ]
    }
   ],
   "source": [
    "#look at shape of each data set\n",
    "print(transactions_a.shape)\n",
    "print(transactions_b.shape)"
   ]
  },
  {
   "cell_type": "code",
   "execution_count": 5,
   "metadata": {},
   "outputs": [
    {
     "name": "stdout",
     "output_type": "stream",
     "text": [
      "transactions_a percent of total: 0.6610125453377199\n",
      "transactions_b percent of total: 0.3389874546622801\n"
     ]
    }
   ],
   "source": [
    "#check what percentage of total each df is \n",
    "print('transactions_a percent of total:', len(transactions_a)/(len(transactions_a)+len(transactions_b)))\n",
    "print('transactions_b percent of total:', len(transactions_b)/(len(transactions_a)+len(transactions_b)))"
   ]
  },
  {
   "cell_type": "markdown",
   "metadata": {},
   "source": [
    "Both sets of data are made up of 31 variables with dataset a containing 188261 transactions and dataset b containing 96546 transactions. Out of the 31 variables in both datasets 28 are the result of principal component analysis dimensionality reduction. Class 0 represents non-fraudulent transactions whereas class 1 represents a fraudulent transaction.\n",
    "\n",
    "In this analysis dataset a will be the training set and dataset b will be the test set. This is a ~60/30 split for training and test."
   ]
  },
  {
   "cell_type": "code",
   "execution_count": 6,
   "metadata": {},
   "outputs": [
    {
     "data": {
      "text/plain": [
       "Time      0\n",
       "V1        0\n",
       "V2        0\n",
       "V3        0\n",
       "V4        0\n",
       "V5        0\n",
       "V6        0\n",
       "V7        0\n",
       "V8        0\n",
       "V9        0\n",
       "V10       0\n",
       "V11       0\n",
       "V12       0\n",
       "V13       0\n",
       "V14       0\n",
       "V15       0\n",
       "V16       0\n",
       "V17       0\n",
       "V18       0\n",
       "V19       0\n",
       "V20       0\n",
       "V21       0\n",
       "V22       0\n",
       "V23       0\n",
       "V24       0\n",
       "V25       0\n",
       "V26       0\n",
       "V27       0\n",
       "V28       0\n",
       "Amount    0\n",
       "Class     0\n",
       "dtype: int64"
      ]
     },
     "execution_count": 6,
     "metadata": {},
     "output_type": "execute_result"
    }
   ],
   "source": [
    "#check to see if there are any missing variaibles\n",
    "transactions_a.isna().sum()"
   ]
  },
  {
   "cell_type": "code",
   "execution_count": 7,
   "metadata": {},
   "outputs": [
    {
     "data": {
      "text/plain": [
       "Time      0\n",
       "V1        0\n",
       "V2        0\n",
       "V3        0\n",
       "V4        0\n",
       "V5        0\n",
       "V6        0\n",
       "V7        0\n",
       "V8        0\n",
       "V9        0\n",
       "V10       0\n",
       "V11       0\n",
       "V12       0\n",
       "V13       0\n",
       "V14       0\n",
       "V15       0\n",
       "V16       0\n",
       "V17       0\n",
       "V18       0\n",
       "V19       0\n",
       "V20       0\n",
       "V21       0\n",
       "V22       0\n",
       "V23       0\n",
       "V24       0\n",
       "V25       0\n",
       "V26       0\n",
       "V27       0\n",
       "V28       0\n",
       "Amount    0\n",
       "Class     0\n",
       "dtype: int64"
      ]
     },
     "execution_count": 7,
     "metadata": {},
     "output_type": "execute_result"
    }
   ],
   "source": [
    "transactions_b.isna().sum()"
   ]
  },
  {
   "cell_type": "code",
   "execution_count": 8,
   "metadata": {},
   "outputs": [
    {
     "data": {
      "text/html": [
       "<div>\n",
       "<style scoped>\n",
       "    .dataframe tbody tr th:only-of-type {\n",
       "        vertical-align: middle;\n",
       "    }\n",
       "\n",
       "    .dataframe tbody tr th {\n",
       "        vertical-align: top;\n",
       "    }\n",
       "\n",
       "    .dataframe thead th {\n",
       "        text-align: right;\n",
       "    }\n",
       "</style>\n",
       "<table border=\"1\" class=\"dataframe\">\n",
       "  <thead>\n",
       "    <tr style=\"text-align: right;\">\n",
       "      <th></th>\n",
       "      <th>Time</th>\n",
       "      <th>V1</th>\n",
       "      <th>V2</th>\n",
       "      <th>V3</th>\n",
       "      <th>V4</th>\n",
       "      <th>V5</th>\n",
       "      <th>V6</th>\n",
       "      <th>V7</th>\n",
       "      <th>V8</th>\n",
       "      <th>V9</th>\n",
       "      <th>...</th>\n",
       "      <th>V21</th>\n",
       "      <th>V22</th>\n",
       "      <th>V23</th>\n",
       "      <th>V24</th>\n",
       "      <th>V25</th>\n",
       "      <th>V26</th>\n",
       "      <th>V27</th>\n",
       "      <th>V28</th>\n",
       "      <th>Amount</th>\n",
       "      <th>Class</th>\n",
       "    </tr>\n",
       "  </thead>\n",
       "  <tbody>\n",
       "    <tr>\n",
       "      <th>count</th>\n",
       "      <td>188261.000000</td>\n",
       "      <td>188261.000000</td>\n",
       "      <td>188261.000000</td>\n",
       "      <td>188261.000000</td>\n",
       "      <td>188261.000000</td>\n",
       "      <td>188261.000000</td>\n",
       "      <td>188261.000000</td>\n",
       "      <td>188261.000000</td>\n",
       "      <td>188261.000000</td>\n",
       "      <td>188261.000000</td>\n",
       "      <td>...</td>\n",
       "      <td>188261.000000</td>\n",
       "      <td>188261.000000</td>\n",
       "      <td>188261.000000</td>\n",
       "      <td>188261.000000</td>\n",
       "      <td>188261.000000</td>\n",
       "      <td>188261.000000</td>\n",
       "      <td>188261.000000</td>\n",
       "      <td>188261.000000</td>\n",
       "      <td>188261.000000</td>\n",
       "      <td>188261.000000</td>\n",
       "    </tr>\n",
       "    <tr>\n",
       "      <th>mean</th>\n",
       "      <td>66911.456133</td>\n",
       "      <td>-0.126822</td>\n",
       "      <td>0.014291</td>\n",
       "      <td>0.382492</td>\n",
       "      <td>0.088906</td>\n",
       "      <td>-0.135514</td>\n",
       "      <td>0.051997</td>\n",
       "      <td>-0.062135</td>\n",
       "      <td>0.022762</td>\n",
       "      <td>0.012470</td>\n",
       "      <td>...</td>\n",
       "      <td>-0.018645</td>\n",
       "      <td>-0.060742</td>\n",
       "      <td>-0.018174</td>\n",
       "      <td>0.006075</td>\n",
       "      <td>0.072205</td>\n",
       "      <td>0.008475</td>\n",
       "      <td>0.001743</td>\n",
       "      <td>0.002159</td>\n",
       "      <td>89.001896</td>\n",
       "      <td>0.001955</td>\n",
       "    </tr>\n",
       "    <tr>\n",
       "      <th>std</th>\n",
       "      <td>32193.455193</td>\n",
       "      <td>1.880580</td>\n",
       "      <td>1.617636</td>\n",
       "      <td>1.428443</td>\n",
       "      <td>1.390410</td>\n",
       "      <td>1.356318</td>\n",
       "      <td>1.306515</td>\n",
       "      <td>1.212057</td>\n",
       "      <td>1.215524</td>\n",
       "      <td>1.141162</td>\n",
       "      <td>...</td>\n",
       "      <td>0.740574</td>\n",
       "      <td>0.683146</td>\n",
       "      <td>0.602326</td>\n",
       "      <td>0.602125</td>\n",
       "      <td>0.481530</td>\n",
       "      <td>0.489470</td>\n",
       "      <td>0.392295</td>\n",
       "      <td>0.309244</td>\n",
       "      <td>247.536020</td>\n",
       "      <td>0.044169</td>\n",
       "    </tr>\n",
       "    <tr>\n",
       "      <th>min</th>\n",
       "      <td>0.000000</td>\n",
       "      <td>-56.407510</td>\n",
       "      <td>-72.715728</td>\n",
       "      <td>-33.680984</td>\n",
       "      <td>-5.683171</td>\n",
       "      <td>-42.147898</td>\n",
       "      <td>-26.160506</td>\n",
       "      <td>-43.557242</td>\n",
       "      <td>-73.216718</td>\n",
       "      <td>-13.434066</td>\n",
       "      <td>...</td>\n",
       "      <td>-34.830382</td>\n",
       "      <td>-10.933144</td>\n",
       "      <td>-44.807735</td>\n",
       "      <td>-2.836627</td>\n",
       "      <td>-10.295397</td>\n",
       "      <td>-2.604551</td>\n",
       "      <td>-22.565679</td>\n",
       "      <td>-11.710896</td>\n",
       "      <td>0.000000</td>\n",
       "      <td>0.000000</td>\n",
       "    </tr>\n",
       "    <tr>\n",
       "      <th>25%</th>\n",
       "      <td>43063.000000</td>\n",
       "      <td>-0.969960</td>\n",
       "      <td>-0.568821</td>\n",
       "      <td>-0.232844</td>\n",
       "      <td>-0.777499</td>\n",
       "      <td>-0.800564</td>\n",
       "      <td>-0.702594</td>\n",
       "      <td>-0.580756</td>\n",
       "      <td>-0.174494</td>\n",
       "      <td>-0.661910</td>\n",
       "      <td>...</td>\n",
       "      <td>-0.228174</td>\n",
       "      <td>-0.540949</td>\n",
       "      <td>-0.169179</td>\n",
       "      <td>-0.338314</td>\n",
       "      <td>-0.225184</td>\n",
       "      <td>-0.331172</td>\n",
       "      <td>-0.066673</td>\n",
       "      <td>-0.037727</td>\n",
       "      <td>5.950000</td>\n",
       "      <td>0.000000</td>\n",
       "    </tr>\n",
       "    <tr>\n",
       "      <th>50%</th>\n",
       "      <td>64747.000000</td>\n",
       "      <td>-0.121054</td>\n",
       "      <td>0.088501</td>\n",
       "      <td>0.542372</td>\n",
       "      <td>0.091115</td>\n",
       "      <td>-0.190869</td>\n",
       "      <td>-0.212486</td>\n",
       "      <td>-0.018999</td>\n",
       "      <td>0.047961</td>\n",
       "      <td>-0.075250</td>\n",
       "      <td>...</td>\n",
       "      <td>-0.047005</td>\n",
       "      <td>-0.046420</td>\n",
       "      <td>-0.031424</td>\n",
       "      <td>0.055085</td>\n",
       "      <td>0.116005</td>\n",
       "      <td>-0.060305</td>\n",
       "      <td>0.006937</td>\n",
       "      <td>0.019434</td>\n",
       "      <td>22.740000</td>\n",
       "      <td>0.000000</td>\n",
       "    </tr>\n",
       "    <tr>\n",
       "      <th>75%</th>\n",
       "      <td>84168.000000</td>\n",
       "      <td>1.202527</td>\n",
       "      <td>0.788329</td>\n",
       "      <td>1.252559</td>\n",
       "      <td>0.905617</td>\n",
       "      <td>0.432033</td>\n",
       "      <td>0.446707</td>\n",
       "      <td>0.485381</td>\n",
       "      <td>0.342508</td>\n",
       "      <td>0.630737</td>\n",
       "      <td>...</td>\n",
       "      <td>0.143127</td>\n",
       "      <td>0.401625</td>\n",
       "      <td>0.109336</td>\n",
       "      <td>0.419810</td>\n",
       "      <td>0.389855</td>\n",
       "      <td>0.265838</td>\n",
       "      <td>0.089279</td>\n",
       "      <td>0.078149</td>\n",
       "      <td>79.000000</td>\n",
       "      <td>0.000000</td>\n",
       "    </tr>\n",
       "    <tr>\n",
       "      <th>max</th>\n",
       "      <td>127894.000000</td>\n",
       "      <td>2.439207</td>\n",
       "      <td>22.057729</td>\n",
       "      <td>9.382558</td>\n",
       "      <td>16.875344</td>\n",
       "      <td>34.801666</td>\n",
       "      <td>22.529298</td>\n",
       "      <td>36.677268</td>\n",
       "      <td>20.007208</td>\n",
       "      <td>15.594995</td>\n",
       "      <td>...</td>\n",
       "      <td>27.202839</td>\n",
       "      <td>10.503090</td>\n",
       "      <td>19.002942</td>\n",
       "      <td>4.022866</td>\n",
       "      <td>7.519589</td>\n",
       "      <td>3.517346</td>\n",
       "      <td>12.152401</td>\n",
       "      <td>33.847808</td>\n",
       "      <td>19656.530000</td>\n",
       "      <td>1.000000</td>\n",
       "    </tr>\n",
       "  </tbody>\n",
       "</table>\n",
       "<p>8 rows × 31 columns</p>\n",
       "</div>"
      ],
      "text/plain": [
       "                Time             V1             V2             V3  \\\n",
       "count  188261.000000  188261.000000  188261.000000  188261.000000   \n",
       "mean    66911.456133      -0.126822       0.014291       0.382492   \n",
       "std     32193.455193       1.880580       1.617636       1.428443   \n",
       "min         0.000000     -56.407510     -72.715728     -33.680984   \n",
       "25%     43063.000000      -0.969960      -0.568821      -0.232844   \n",
       "50%     64747.000000      -0.121054       0.088501       0.542372   \n",
       "75%     84168.000000       1.202527       0.788329       1.252559   \n",
       "max    127894.000000       2.439207      22.057729       9.382558   \n",
       "\n",
       "                  V4             V5             V6             V7  \\\n",
       "count  188261.000000  188261.000000  188261.000000  188261.000000   \n",
       "mean        0.088906      -0.135514       0.051997      -0.062135   \n",
       "std         1.390410       1.356318       1.306515       1.212057   \n",
       "min        -5.683171     -42.147898     -26.160506     -43.557242   \n",
       "25%        -0.777499      -0.800564      -0.702594      -0.580756   \n",
       "50%         0.091115      -0.190869      -0.212486      -0.018999   \n",
       "75%         0.905617       0.432033       0.446707       0.485381   \n",
       "max        16.875344      34.801666      22.529298      36.677268   \n",
       "\n",
       "                  V8             V9  ...            V21            V22  \\\n",
       "count  188261.000000  188261.000000  ...  188261.000000  188261.000000   \n",
       "mean        0.022762       0.012470  ...      -0.018645      -0.060742   \n",
       "std         1.215524       1.141162  ...       0.740574       0.683146   \n",
       "min       -73.216718     -13.434066  ...     -34.830382     -10.933144   \n",
       "25%        -0.174494      -0.661910  ...      -0.228174      -0.540949   \n",
       "50%         0.047961      -0.075250  ...      -0.047005      -0.046420   \n",
       "75%         0.342508       0.630737  ...       0.143127       0.401625   \n",
       "max        20.007208      15.594995  ...      27.202839      10.503090   \n",
       "\n",
       "                 V23            V24            V25            V26  \\\n",
       "count  188261.000000  188261.000000  188261.000000  188261.000000   \n",
       "mean       -0.018174       0.006075       0.072205       0.008475   \n",
       "std         0.602326       0.602125       0.481530       0.489470   \n",
       "min       -44.807735      -2.836627     -10.295397      -2.604551   \n",
       "25%        -0.169179      -0.338314      -0.225184      -0.331172   \n",
       "50%        -0.031424       0.055085       0.116005      -0.060305   \n",
       "75%         0.109336       0.419810       0.389855       0.265838   \n",
       "max        19.002942       4.022866       7.519589       3.517346   \n",
       "\n",
       "                 V27            V28         Amount          Class  \n",
       "count  188261.000000  188261.000000  188261.000000  188261.000000  \n",
       "mean        0.001743       0.002159      89.001896       0.001955  \n",
       "std         0.392295       0.309244     247.536020       0.044169  \n",
       "min       -22.565679     -11.710896       0.000000       0.000000  \n",
       "25%        -0.066673      -0.037727       5.950000       0.000000  \n",
       "50%         0.006937       0.019434      22.740000       0.000000  \n",
       "75%         0.089279       0.078149      79.000000       0.000000  \n",
       "max        12.152401      33.847808   19656.530000       1.000000  \n",
       "\n",
       "[8 rows x 31 columns]"
      ]
     },
     "execution_count": 8,
     "metadata": {},
     "output_type": "execute_result"
    }
   ],
   "source": [
    "#look at statistics for dataset a\n",
    "transactions_a.describe()"
   ]
  },
  {
   "cell_type": "code",
   "execution_count": 9,
   "metadata": {},
   "outputs": [
    {
     "data": {
      "image/png": "[encoded data removed]",
      "text/plain": [
       "<Figure size 1296x864 with 30 Axes>"
      ]
     },
     "metadata": {
      "needs_background": "light"
     },
     "output_type": "display_data"
    }
   ],
   "source": [
    "#plot the distributions of the variables\n",
    "cols = list(transactions_a.columns[:30])\n",
    "\n",
    "fig, axs = plt.subplots(nrows = 6, ncols=5, figsize = (18,12))\n",
    "axs = axs.ravel()\n",
    "for i, ax in enumerate(axs):\n",
    "    ax.hist(transactions_a[cols[i]],\n",
    "            bins='sqrt')\n",
    "    ax.set_title(cols[i])\n",
    "plt.tight_layout()\n"
   ]
  },
  {
   "cell_type": "markdown",
   "metadata": {},
   "source": [
    "It appears that amount is highly skewed to the right. While the other variables made up of the principal components are roughly normally distributed. I am going to plot a box plot to visualize the outliers of the Amount variable"
   ]
  },
  {
   "cell_type": "code",
   "execution_count": 10,
   "metadata": {},
   "outputs": [
    {
     "data": {
      "image/png": "[encoded data removed]",
      "text/plain": [
       "<Figure size 288x864 with 1 Axes>"
      ]
     },
     "metadata": {
      "needs_background": "light"
     },
     "output_type": "display_data"
    }
   ],
   "source": [
    "#boxplot of amount variable. \n",
    "fig1, axs = plt.subplots(figsize = (4,12))\n",
    "axs.boxplot('Amount', data = transactions_a)\n",
    "plt.show()"
   ]
  },
  {
   "cell_type": "markdown",
   "metadata": {},
   "source": [
    "The boxplot shows us that there is a large spread in the amount of money spent in a transaction. Amount of money could be an indicator of fraud. This can also be supported by the descriptive statistics because the maximum spend transaction was marked as fraudulent. "
   ]
  },
  {
   "cell_type": "markdown",
   "metadata": {},
   "source": [
    "Because we are going to run a logistic regression on the dataset we will want to ensure that all of our features are scaled. We are going to transform the 'amount' column using a standard scaler. Based on the descriptive statistics the mean/standard deviation of the principal components follow a roughly normal distribution; this is the reason we will use a standard scaler. "
   ]
  },
  {
   "cell_type": "code",
   "execution_count": 11,
   "metadata": {},
   "outputs": [
    {
     "name": "stdout",
     "output_type": "stream",
     "text": [
      "            Time        V1         V2        V3        V4        V5        V6  \\\n",
      "0            0.0 -1.359807  -0.072781  2.536347  1.378155 -0.338321  0.462388   \n",
      "1            0.0  1.191857   0.266151  0.166480  0.448154  0.060018 -0.082361   \n",
      "2            1.0 -1.358354  -1.340163  1.773209  0.379780 -0.503198  1.800499   \n",
      "3            1.0 -0.966272  -0.185226  1.792993 -0.863291 -0.010309  1.247203   \n",
      "4            2.0 -1.158233   0.877737  1.548718  0.403034 -0.407193  0.095921   \n",
      "...          ...       ...        ...       ...       ...       ...       ...   \n",
      "188256  127893.0 -8.852104 -11.509369  0.449332  2.068166  5.423514 -4.506990   \n",
      "188257  127894.0  1.609287  -0.581437  0.008484  1.655629 -1.162795 -0.938786   \n",
      "188258  127894.0  2.097886  -0.685229 -1.281921 -0.318993 -0.235987 -0.167462   \n",
      "188259  127894.0  1.851731  -0.368532  0.157316  1.422273 -0.917616 -0.315417   \n",
      "188260  127894.0  1.759307  -0.459599 -0.379355  1.665059 -0.555768 -0.275380   \n",
      "\n",
      "              V7        V8        V9  ...       V22       V23       V24  \\\n",
      "0       0.239599  0.098698  0.363787  ...  0.277838 -0.110474  0.066928   \n",
      "1      -0.078803  0.085102 -0.255425  ... -0.638672  0.101288 -0.339846   \n",
      "2       0.791461  0.247676 -1.514654  ...  0.771679  0.909412 -0.689281   \n",
      "3       0.237609  0.377436 -1.387024  ...  0.005274 -0.190321 -1.175575   \n",
      "4       0.592941 -0.270533  0.817739  ...  0.798278 -0.137458  0.141267   \n",
      "...          ...       ...       ...  ...       ...       ...       ...   \n",
      "188256 -3.722182 -0.343961 -1.255238  ...  1.059268  5.788621  1.226642   \n",
      "188257 -0.287847 -0.124818  0.855258  ...  0.902301  0.129504  0.858324   \n",
      "188258 -0.382762 -0.114099 -0.412410  ...  0.381340  0.056371  0.740105   \n",
      "188259 -0.696940  0.053708  1.206733  ...  0.288365  0.247731 -0.001908   \n",
      "188260 -0.174480  0.001335  1.259834  ... -1.279994  0.376938 -0.110435   \n",
      "\n",
      "             V25       V26       V27       V28  Amount  Class         0  \n",
      "0       0.128539 -0.189115  0.133558 -0.021053  149.62      0  0.244887  \n",
      "1       0.167170  0.125895 -0.008983  0.014724    2.69      0 -0.348685  \n",
      "2      -0.327642 -0.139097 -0.055353 -0.059752  378.66      0  1.170169  \n",
      "3       0.647376 -0.221929  0.062723  0.061458  123.50      0  0.139366  \n",
      "4      -0.206010  0.502292  0.219422  0.215153   69.99      0 -0.076805  \n",
      "...          ...       ...       ...       ...     ...    ...       ...  \n",
      "188256  1.186211  0.584517  1.783203 -0.400900   37.50      0 -0.208059  \n",
      "188257 -0.281039 -0.628079  0.032977  0.003303  150.00      0  0.246422  \n",
      "188258  0.272978 -0.107836  0.016936 -0.057214   11.50      0 -0.313094  \n",
      "188259 -0.361825 -0.760861  0.069835 -0.013513   45.00      0 -0.177760  \n",
      "188260 -0.386261 -1.109207  0.037766 -0.017127   93.34      0  0.017525  \n",
      "\n",
      "[188261 rows x 32 columns]\n"
     ]
    }
   ],
   "source": [
    "scaler = StandardScaler()\n",
    "\n",
    "#transform training set\n",
    "trans_a = transactions_a['Amount']\n",
    "trans_a = np.asarray(trans_a).reshape(-1,1)\n",
    "amount_a = scaler.fit_transform(trans_a)\n",
    "amount_a_df = pd.DataFrame(amount_a)\n",
    "transactions_a = transactions_a.join(amount_a_df,lsuffix=\"_left\", rsuffix=\"_right\")\n",
    "print(transactions_a)"
   ]
  },
  {
   "cell_type": "code",
   "execution_count": 12,
   "metadata": {},
   "outputs": [
    {
     "data": {
      "text/html": [
       "<div>\n",
       "<style scoped>\n",
       "    .dataframe tbody tr th:only-of-type {\n",
       "        vertical-align: middle;\n",
       "    }\n",
       "\n",
       "    .dataframe tbody tr th {\n",
       "        vertical-align: top;\n",
       "    }\n",
       "\n",
       "    .dataframe thead th {\n",
       "        text-align: right;\n",
       "    }\n",
       "</style>\n",
       "<table border=\"1\" class=\"dataframe\">\n",
       "  <thead>\n",
       "    <tr style=\"text-align: right;\">\n",
       "      <th></th>\n",
       "      <th>Time</th>\n",
       "      <th>V1</th>\n",
       "      <th>V2</th>\n",
       "      <th>V3</th>\n",
       "      <th>V4</th>\n",
       "      <th>V5</th>\n",
       "      <th>V6</th>\n",
       "      <th>V7</th>\n",
       "      <th>V8</th>\n",
       "      <th>V9</th>\n",
       "      <th>...</th>\n",
       "      <th>V22</th>\n",
       "      <th>V23</th>\n",
       "      <th>V24</th>\n",
       "      <th>V25</th>\n",
       "      <th>V26</th>\n",
       "      <th>V27</th>\n",
       "      <th>V28</th>\n",
       "      <th>Amount</th>\n",
       "      <th>Class</th>\n",
       "      <th>transformed_amount</th>\n",
       "    </tr>\n",
       "  </thead>\n",
       "  <tbody>\n",
       "    <tr>\n",
       "      <th>0</th>\n",
       "      <td>0.0</td>\n",
       "      <td>-1.359807</td>\n",
       "      <td>-0.072781</td>\n",
       "      <td>2.536347</td>\n",
       "      <td>1.378155</td>\n",
       "      <td>-0.338321</td>\n",
       "      <td>0.462388</td>\n",
       "      <td>0.239599</td>\n",
       "      <td>0.098698</td>\n",
       "      <td>0.363787</td>\n",
       "      <td>...</td>\n",
       "      <td>0.277838</td>\n",
       "      <td>-0.110474</td>\n",
       "      <td>0.066928</td>\n",
       "      <td>0.128539</td>\n",
       "      <td>-0.189115</td>\n",
       "      <td>0.133558</td>\n",
       "      <td>-0.021053</td>\n",
       "      <td>149.62</td>\n",
       "      <td>0</td>\n",
       "      <td>0.244887</td>\n",
       "    </tr>\n",
       "    <tr>\n",
       "      <th>1</th>\n",
       "      <td>0.0</td>\n",
       "      <td>1.191857</td>\n",
       "      <td>0.266151</td>\n",
       "      <td>0.166480</td>\n",
       "      <td>0.448154</td>\n",
       "      <td>0.060018</td>\n",
       "      <td>-0.082361</td>\n",
       "      <td>-0.078803</td>\n",
       "      <td>0.085102</td>\n",
       "      <td>-0.255425</td>\n",
       "      <td>...</td>\n",
       "      <td>-0.638672</td>\n",
       "      <td>0.101288</td>\n",
       "      <td>-0.339846</td>\n",
       "      <td>0.167170</td>\n",
       "      <td>0.125895</td>\n",
       "      <td>-0.008983</td>\n",
       "      <td>0.014724</td>\n",
       "      <td>2.69</td>\n",
       "      <td>0</td>\n",
       "      <td>-0.348685</td>\n",
       "    </tr>\n",
       "    <tr>\n",
       "      <th>2</th>\n",
       "      <td>1.0</td>\n",
       "      <td>-1.358354</td>\n",
       "      <td>-1.340163</td>\n",
       "      <td>1.773209</td>\n",
       "      <td>0.379780</td>\n",
       "      <td>-0.503198</td>\n",
       "      <td>1.800499</td>\n",
       "      <td>0.791461</td>\n",
       "      <td>0.247676</td>\n",
       "      <td>-1.514654</td>\n",
       "      <td>...</td>\n",
       "      <td>0.771679</td>\n",
       "      <td>0.909412</td>\n",
       "      <td>-0.689281</td>\n",
       "      <td>-0.327642</td>\n",
       "      <td>-0.139097</td>\n",
       "      <td>-0.055353</td>\n",
       "      <td>-0.059752</td>\n",
       "      <td>378.66</td>\n",
       "      <td>0</td>\n",
       "      <td>1.170169</td>\n",
       "    </tr>\n",
       "    <tr>\n",
       "      <th>3</th>\n",
       "      <td>1.0</td>\n",
       "      <td>-0.966272</td>\n",
       "      <td>-0.185226</td>\n",
       "      <td>1.792993</td>\n",
       "      <td>-0.863291</td>\n",
       "      <td>-0.010309</td>\n",
       "      <td>1.247203</td>\n",
       "      <td>0.237609</td>\n",
       "      <td>0.377436</td>\n",
       "      <td>-1.387024</td>\n",
       "      <td>...</td>\n",
       "      <td>0.005274</td>\n",
       "      <td>-0.190321</td>\n",
       "      <td>-1.175575</td>\n",
       "      <td>0.647376</td>\n",
       "      <td>-0.221929</td>\n",
       "      <td>0.062723</td>\n",
       "      <td>0.061458</td>\n",
       "      <td>123.50</td>\n",
       "      <td>0</td>\n",
       "      <td>0.139366</td>\n",
       "    </tr>\n",
       "    <tr>\n",
       "      <th>4</th>\n",
       "      <td>2.0</td>\n",
       "      <td>-1.158233</td>\n",
       "      <td>0.877737</td>\n",
       "      <td>1.548718</td>\n",
       "      <td>0.403034</td>\n",
       "      <td>-0.407193</td>\n",
       "      <td>0.095921</td>\n",
       "      <td>0.592941</td>\n",
       "      <td>-0.270533</td>\n",
       "      <td>0.817739</td>\n",
       "      <td>...</td>\n",
       "      <td>0.798278</td>\n",
       "      <td>-0.137458</td>\n",
       "      <td>0.141267</td>\n",
       "      <td>-0.206010</td>\n",
       "      <td>0.502292</td>\n",
       "      <td>0.219422</td>\n",
       "      <td>0.215153</td>\n",
       "      <td>69.99</td>\n",
       "      <td>0</td>\n",
       "      <td>-0.076805</td>\n",
       "    </tr>\n",
       "  </tbody>\n",
       "</table>\n",
       "<p>5 rows × 32 columns</p>\n",
       "</div>"
      ],
      "text/plain": [
       "   Time        V1        V2        V3        V4        V5        V6        V7  \\\n",
       "0   0.0 -1.359807 -0.072781  2.536347  1.378155 -0.338321  0.462388  0.239599   \n",
       "1   0.0  1.191857  0.266151  0.166480  0.448154  0.060018 -0.082361 -0.078803   \n",
       "2   1.0 -1.358354 -1.340163  1.773209  0.379780 -0.503198  1.800499  0.791461   \n",
       "3   1.0 -0.966272 -0.185226  1.792993 -0.863291 -0.010309  1.247203  0.237609   \n",
       "4   2.0 -1.158233  0.877737  1.548718  0.403034 -0.407193  0.095921  0.592941   \n",
       "\n",
       "         V8        V9  ...       V22       V23       V24       V25       V26  \\\n",
       "0  0.098698  0.363787  ...  0.277838 -0.110474  0.066928  0.128539 -0.189115   \n",
       "1  0.085102 -0.255425  ... -0.638672  0.101288 -0.339846  0.167170  0.125895   \n",
       "2  0.247676 -1.514654  ...  0.771679  0.909412 -0.689281 -0.327642 -0.139097   \n",
       "3  0.377436 -1.387024  ...  0.005274 -0.190321 -1.175575  0.647376 -0.221929   \n",
       "4 -0.270533  0.817739  ...  0.798278 -0.137458  0.141267 -0.206010  0.502292   \n",
       "\n",
       "        V27       V28  Amount  Class  transformed_amount  \n",
       "0  0.133558 -0.021053  149.62      0            0.244887  \n",
       "1 -0.008983  0.014724    2.69      0           -0.348685  \n",
       "2 -0.055353 -0.059752  378.66      0            1.170169  \n",
       "3  0.062723  0.061458  123.50      0            0.139366  \n",
       "4  0.219422  0.215153   69.99      0           -0.076805  \n",
       "\n",
       "[5 rows x 32 columns]"
      ]
     },
     "execution_count": 12,
     "metadata": {},
     "output_type": "execute_result"
    }
   ],
   "source": [
    "#rename and drop original Amount column\n",
    "transactions_a.rename(columns={0:'transformed_amount'}, inplace=True)\n",
    "transactions_a.head()"
   ]
  },
  {
   "cell_type": "code",
   "execution_count": 13,
   "metadata": {},
   "outputs": [
    {
     "name": "stdout",
     "output_type": "stream",
     "text": [
      "         Time         V1         V2        V3        V4        V5        V6  \\\n",
      "0      127895   0.155432  -0.513165  0.348025 -2.290819  0.412328  0.537240   \n",
      "1      127895   0.144968   0.984625 -0.469259 -0.559418  0.898427 -0.774439   \n",
      "2      127895  -0.611349   1.283775 -1.974043 -1.655406  2.984231  3.506069   \n",
      "3      127895   1.836002  -1.291509 -1.777315 -0.937930 -0.474535 -0.957642   \n",
      "4      127895   2.013508   0.171357 -2.245188  0.936324  0.243521 -1.389765   \n",
      "...       ...        ...        ...       ...       ...       ...       ...   \n",
      "96541  172786 -11.881118  10.071785 -9.834783 -2.066656 -5.364473 -2.606837   \n",
      "96542  172787  -0.732789  -0.055080  2.035030 -0.738589  0.868229  1.058415   \n",
      "96543  172788   1.919565  -0.301254 -3.249640 -0.557828  2.630515  3.031260   \n",
      "96544  172788  -0.240440   0.530483  0.702510  0.689799 -0.377961  0.623708   \n",
      "96545  172792  -0.533413  -0.189733  0.703337 -0.506271 -0.012546 -0.649617   \n",
      "\n",
      "             V7        V8        V9  ...       V22       V23       V24  \\\n",
      "0      0.076755 -0.072367 -0.343188  ...  0.264679  0.154866 -1.067183   \n",
      "1      0.966555 -0.079312  0.029686  ... -0.894781  0.103029  0.458925   \n",
      "2     -0.214317 -0.632051  0.167111  ... -1.450777  0.343309  0.560751   \n",
      "3      0.010062 -0.324263 -0.882252  ... -0.002319 -0.013476 -0.410082   \n",
      "4      0.106378 -0.197682  1.011673  ...  0.138471 -0.027367 -0.273424   \n",
      "...         ...       ...       ...  ...       ...       ...       ...   \n",
      "96541 -4.918215  7.305334  1.914428  ...  0.111864  1.014480 -0.509348   \n",
      "96542  0.024330  0.294869  0.584800  ...  0.924384  0.012463 -1.016226   \n",
      "96543 -0.296827  0.708417  0.432454  ...  0.578229 -0.037501  0.640134   \n",
      "96544 -0.686180  0.679145  0.392087  ...  0.800049 -0.163298  0.123205   \n",
      "96545  1.577006 -0.414650  0.486180  ...  0.643078  0.376777  0.008797   \n",
      "\n",
      "            V25       V26       V27       V28  Amount  Class         0  \n",
      "0     -1.192413  0.735726 -0.154075 -0.200072   30.43      0  0.244887  \n",
      "1     -0.419840  0.120432  0.216811  0.082648    9.98      0 -0.348685  \n",
      "2     -0.335527  0.181544  0.424852  0.145803    1.98      0  1.170169  \n",
      "3     -0.131701 -0.329364 -0.092481 -0.042942  210.00      0  0.139366  \n",
      "4      0.133993  0.739868 -0.046538 -0.016684   12.31      0 -0.076805  \n",
      "...         ...       ...       ...       ...     ...    ...       ...  \n",
      "96541  1.436807  0.250034  0.943651  0.823731    0.77      0 -0.237751  \n",
      "96542 -0.606624 -0.395255  0.068472 -0.053527   24.79      0 -0.352321  \n",
      "96543  0.265745 -0.087371  0.004455 -0.026561   67.88      0 -0.309822  \n",
      "96544 -0.569159  0.546668  0.108821  0.104533   10.00      0 -0.295319  \n",
      "96545 -0.473649 -0.818267 -0.002415  0.013649  217.00      0  0.004032  \n",
      "\n",
      "[96546 rows x 32 columns]\n"
     ]
    }
   ],
   "source": [
    "#transform test set\n",
    "trans_b = transactions_b['Amount']\n",
    "trans_b = np.asarray(trans_a).reshape(-1,1)\n",
    "amount_b = scaler.fit_transform(trans_b)\n",
    "amount_b_df = pd.DataFrame(amount_b)\n",
    "transactions_b = transactions_b.join(amount_b_df,lsuffix=\"_left\", rsuffix=\"_right\")\n",
    "print(transactions_b)"
   ]
  },
  {
   "cell_type": "code",
   "execution_count": 14,
   "metadata": {},
   "outputs": [
    {
     "data": {
      "text/html": [
       "<div>\n",
       "<style scoped>\n",
       "    .dataframe tbody tr th:only-of-type {\n",
       "        vertical-align: middle;\n",
       "    }\n",
       "\n",
       "    .dataframe tbody tr th {\n",
       "        vertical-align: top;\n",
       "    }\n",
       "\n",
       "    .dataframe thead th {\n",
       "        text-align: right;\n",
       "    }\n",
       "</style>\n",
       "<table border=\"1\" class=\"dataframe\">\n",
       "  <thead>\n",
       "    <tr style=\"text-align: right;\">\n",
       "      <th></th>\n",
       "      <th>Time</th>\n",
       "      <th>V1</th>\n",
       "      <th>V2</th>\n",
       "      <th>V3</th>\n",
       "      <th>V4</th>\n",
       "      <th>V5</th>\n",
       "      <th>V6</th>\n",
       "      <th>V7</th>\n",
       "      <th>V8</th>\n",
       "      <th>V9</th>\n",
       "      <th>...</th>\n",
       "      <th>V22</th>\n",
       "      <th>V23</th>\n",
       "      <th>V24</th>\n",
       "      <th>V25</th>\n",
       "      <th>V26</th>\n",
       "      <th>V27</th>\n",
       "      <th>V28</th>\n",
       "      <th>Amount</th>\n",
       "      <th>Class</th>\n",
       "      <th>transformed_amount</th>\n",
       "    </tr>\n",
       "  </thead>\n",
       "  <tbody>\n",
       "    <tr>\n",
       "      <th>0</th>\n",
       "      <td>127895</td>\n",
       "      <td>0.155432</td>\n",
       "      <td>-0.513165</td>\n",
       "      <td>0.348025</td>\n",
       "      <td>-2.290819</td>\n",
       "      <td>0.412328</td>\n",
       "      <td>0.537240</td>\n",
       "      <td>0.076755</td>\n",
       "      <td>-0.072367</td>\n",
       "      <td>-0.343188</td>\n",
       "      <td>...</td>\n",
       "      <td>0.264679</td>\n",
       "      <td>0.154866</td>\n",
       "      <td>-1.067183</td>\n",
       "      <td>-1.192413</td>\n",
       "      <td>0.735726</td>\n",
       "      <td>-0.154075</td>\n",
       "      <td>-0.200072</td>\n",
       "      <td>30.43</td>\n",
       "      <td>0</td>\n",
       "      <td>0.244887</td>\n",
       "    </tr>\n",
       "    <tr>\n",
       "      <th>1</th>\n",
       "      <td>127895</td>\n",
       "      <td>0.144968</td>\n",
       "      <td>0.984625</td>\n",
       "      <td>-0.469259</td>\n",
       "      <td>-0.559418</td>\n",
       "      <td>0.898427</td>\n",
       "      <td>-0.774439</td>\n",
       "      <td>0.966555</td>\n",
       "      <td>-0.079312</td>\n",
       "      <td>0.029686</td>\n",
       "      <td>...</td>\n",
       "      <td>-0.894781</td>\n",
       "      <td>0.103029</td>\n",
       "      <td>0.458925</td>\n",
       "      <td>-0.419840</td>\n",
       "      <td>0.120432</td>\n",
       "      <td>0.216811</td>\n",
       "      <td>0.082648</td>\n",
       "      <td>9.98</td>\n",
       "      <td>0</td>\n",
       "      <td>-0.348685</td>\n",
       "    </tr>\n",
       "    <tr>\n",
       "      <th>2</th>\n",
       "      <td>127895</td>\n",
       "      <td>-0.611349</td>\n",
       "      <td>1.283775</td>\n",
       "      <td>-1.974043</td>\n",
       "      <td>-1.655406</td>\n",
       "      <td>2.984231</td>\n",
       "      <td>3.506069</td>\n",
       "      <td>-0.214317</td>\n",
       "      <td>-0.632051</td>\n",
       "      <td>0.167111</td>\n",
       "      <td>...</td>\n",
       "      <td>-1.450777</td>\n",
       "      <td>0.343309</td>\n",
       "      <td>0.560751</td>\n",
       "      <td>-0.335527</td>\n",
       "      <td>0.181544</td>\n",
       "      <td>0.424852</td>\n",
       "      <td>0.145803</td>\n",
       "      <td>1.98</td>\n",
       "      <td>0</td>\n",
       "      <td>1.170169</td>\n",
       "    </tr>\n",
       "    <tr>\n",
       "      <th>3</th>\n",
       "      <td>127895</td>\n",
       "      <td>1.836002</td>\n",
       "      <td>-1.291509</td>\n",
       "      <td>-1.777315</td>\n",
       "      <td>-0.937930</td>\n",
       "      <td>-0.474535</td>\n",
       "      <td>-0.957642</td>\n",
       "      <td>0.010062</td>\n",
       "      <td>-0.324263</td>\n",
       "      <td>-0.882252</td>\n",
       "      <td>...</td>\n",
       "      <td>-0.002319</td>\n",
       "      <td>-0.013476</td>\n",
       "      <td>-0.410082</td>\n",
       "      <td>-0.131701</td>\n",
       "      <td>-0.329364</td>\n",
       "      <td>-0.092481</td>\n",
       "      <td>-0.042942</td>\n",
       "      <td>210.00</td>\n",
       "      <td>0</td>\n",
       "      <td>0.139366</td>\n",
       "    </tr>\n",
       "    <tr>\n",
       "      <th>4</th>\n",
       "      <td>127895</td>\n",
       "      <td>2.013508</td>\n",
       "      <td>0.171357</td>\n",
       "      <td>-2.245188</td>\n",
       "      <td>0.936324</td>\n",
       "      <td>0.243521</td>\n",
       "      <td>-1.389765</td>\n",
       "      <td>0.106378</td>\n",
       "      <td>-0.197682</td>\n",
       "      <td>1.011673</td>\n",
       "      <td>...</td>\n",
       "      <td>0.138471</td>\n",
       "      <td>-0.027367</td>\n",
       "      <td>-0.273424</td>\n",
       "      <td>0.133993</td>\n",
       "      <td>0.739868</td>\n",
       "      <td>-0.046538</td>\n",
       "      <td>-0.016684</td>\n",
       "      <td>12.31</td>\n",
       "      <td>0</td>\n",
       "      <td>-0.076805</td>\n",
       "    </tr>\n",
       "  </tbody>\n",
       "</table>\n",
       "<p>5 rows × 32 columns</p>\n",
       "</div>"
      ],
      "text/plain": [
       "     Time        V1        V2        V3        V4        V5        V6  \\\n",
       "0  127895  0.155432 -0.513165  0.348025 -2.290819  0.412328  0.537240   \n",
       "1  127895  0.144968  0.984625 -0.469259 -0.559418  0.898427 -0.774439   \n",
       "2  127895 -0.611349  1.283775 -1.974043 -1.655406  2.984231  3.506069   \n",
       "3  127895  1.836002 -1.291509 -1.777315 -0.937930 -0.474535 -0.957642   \n",
       "4  127895  2.013508  0.171357 -2.245188  0.936324  0.243521 -1.389765   \n",
       "\n",
       "         V7        V8        V9  ...       V22       V23       V24       V25  \\\n",
       "0  0.076755 -0.072367 -0.343188  ...  0.264679  0.154866 -1.067183 -1.192413   \n",
       "1  0.966555 -0.079312  0.029686  ... -0.894781  0.103029  0.458925 -0.419840   \n",
       "2 -0.214317 -0.632051  0.167111  ... -1.450777  0.343309  0.560751 -0.335527   \n",
       "3  0.010062 -0.324263 -0.882252  ... -0.002319 -0.013476 -0.410082 -0.131701   \n",
       "4  0.106378 -0.197682  1.011673  ...  0.138471 -0.027367 -0.273424  0.133993   \n",
       "\n",
       "        V26       V27       V28  Amount  Class  transformed_amount  \n",
       "0  0.735726 -0.154075 -0.200072   30.43      0            0.244887  \n",
       "1  0.120432  0.216811  0.082648    9.98      0           -0.348685  \n",
       "2  0.181544  0.424852  0.145803    1.98      0            1.170169  \n",
       "3 -0.329364 -0.092481 -0.042942  210.00      0            0.139366  \n",
       "4  0.739868 -0.046538 -0.016684   12.31      0           -0.076805  \n",
       "\n",
       "[5 rows x 32 columns]"
      ]
     },
     "execution_count": 14,
     "metadata": {},
     "output_type": "execute_result"
    }
   ],
   "source": [
    "#rename and drop original Amount column\n",
    "transactions_b.rename(columns={0:'transformed_amount'}, inplace=True)\n",
    "transactions_b.head()"
   ]
  },
  {
   "cell_type": "markdown",
   "metadata": {},
   "source": [
    "As this dataset was already transformed using PCA I want to see where most of the variablity of the dataset lies. This is done using a scree_plot as shown below. "
   ]
  },
  {
   "cell_type": "code",
   "execution_count": 15,
   "metadata": {},
   "outputs": [
    {
     "data": {
      "image/png": "[encoded data removed]",
      "text/plain": [
       "<Figure size 432x288 with 1 Axes>"
      ]
     },
     "metadata": {
      "needs_background": "light"
     },
     "output_type": "display_data"
    }
   ],
   "source": [
    "PC_a = transactions_a.iloc[:,1:29]\n",
    "sp.scree_plot(PC_a)"
   ]
  },
  {
   "cell_type": "markdown",
   "metadata": {},
   "source": [
    "Based on the scree plot explaination of variance within the principal components I am going to choose to run the models with both the first Five principal components as this is where most of the variance is explained (This is where the elbow of the plot appears to be). \n",
    "\n",
    "This is a quick simple article to explain how to interpret the plot and choosing the number of principal components to use. https://www.theanalysisfactor.com/factor-analysis-how-many-factors/ "
   ]
  },
  {
   "cell_type": "markdown",
   "metadata": {},
   "source": [
    "Next we are going to visualize and investigate the distribution of the classification for fraudulent versus non-fraudulent transactions. "
   ]
  },
  {
   "cell_type": "code",
   "execution_count": 16,
   "metadata": {},
   "outputs": [
    {
     "data": {
      "image/png": "[encoded data removed]",
      "text/plain": [
       "<Figure size 720x720 with 1 Axes>"
      ]
     },
     "metadata": {
      "needs_background": "light"
     },
     "output_type": "display_data"
    }
   ],
   "source": [
    "#distribution of frauduent/non-fraudulent transactions for dataset a\n",
    "%matplotlib inline\n",
    "transactions_a['Class'].hist(bins=10, figsize=(10,10))\n",
    "plt.title('Training Set Output Variable Distribution')\n",
    "plt.show()"
   ]
  },
  {
   "cell_type": "code",
   "execution_count": 17,
   "metadata": {},
   "outputs": [
    {
     "data": {
      "image/png": "[encoded data removed]",
      "text/plain": [
       "<Figure size 720x720 with 1 Axes>"
      ]
     },
     "metadata": {
      "needs_background": "light"
     },
     "output_type": "display_data"
    }
   ],
   "source": [
    "#distribution of fraudulent/non-fraudulent transactions for dataset b\n",
    "%matplotlib inline\n",
    "transactions_b['Class'].hist(bins=10, figsize=(10,10))\n",
    "plt.title('Training Set Output Variable Distribution')\n",
    "plt.show()"
   ]
  },
  {
   "cell_type": "code",
   "execution_count": 18,
   "metadata": {},
   "outputs": [
    {
     "name": "stdout",
     "output_type": "stream",
     "text": [
      "0    187893\n",
      "1       368\n",
      "Name: Class, dtype: int64\n",
      "0.19547330567669352\n"
     ]
    }
   ],
   "source": [
    "#count of fraudulent/non-fraudulent dataset a\n",
    "count_a = transactions_a['Class'].value_counts()\n",
    "print(count_a)\n",
    "fraud_a = (count_a[1]/(count_a[0] + count_a[1]))*100\n",
    "print(fraud_a)"
   ]
  },
  {
   "cell_type": "code",
   "execution_count": 19,
   "metadata": {},
   "outputs": [
    {
     "name": "stdout",
     "output_type": "stream",
     "text": [
      "0    96422\n",
      "1      124\n",
      "Name: Class, dtype: int64\n",
      "0.12843618585959024\n"
     ]
    }
   ],
   "source": [
    "#count of fraudulent/non-fraudulent dataset b\n",
    "count_b = transactions_b['Class'].value_counts()\n",
    "print(count_b)\n",
    "fraud_b = (count_b[1]/(count_b[0] + count_b[1]))*100\n",
    "print(fraud_b)"
   ]
  },
  {
   "cell_type": "markdown",
   "metadata": {},
   "source": [
    "Based on the histogram distributions of the outcome varaibles for both datasets we can see that the data is very imbalanced. Less than 1% of transactions were deemed fraudulent. In this case it will be important to balance the data before feeding it to the model to ensure that the model is better able to predict cases of fraud. We can balance the data by oversampling the fraudulent cases, or undersampling the non-fraudulent cases using a resampling technique"
   ]
  },
  {
   "cell_type": "markdown",
   "metadata": {},
   "source": [
    "## Model Building"
   ]
  },
  {
   "cell_type": "code",
   "execution_count": 20,
   "metadata": {},
   "outputs": [],
   "source": [
    "#Principal Components to keep\n",
    "keep_list = ['V1', 'V2', 'V3','V4', 'V5', 'transformed_amount', 'Class'] #this is for 5 principal components"
   ]
  },
  {
   "cell_type": "markdown",
   "metadata": {},
   "source": [
    "I am not going to keep the 'Time' variable as this does not seem like it will provide useful information as it is described as being a measure of time between the current transaction and the first transaction on the dataset. "
   ]
  },
  {
   "cell_type": "code",
   "execution_count": 21,
   "metadata": {},
   "outputs": [
    {
     "name": "stdout",
     "output_type": "stream",
     "text": [
      "         V1        V2        V3        V4        V5  transformed_amount  Class\n",
      "0 -1.359807 -0.072781  2.536347  1.378155 -0.338321            0.244887      0\n",
      "1  1.191857  0.266151  0.166480  0.448154  0.060018           -0.348685      0\n",
      "2 -1.358354 -1.340163  1.773209  0.379780 -0.503198            1.170169      0\n",
      "3 -0.966272 -0.185226  1.792993 -0.863291 -0.010309            0.139366      0\n",
      "4 -1.158233  0.877737  1.548718  0.403034 -0.407193           -0.076805      0\n",
      "         V1        V2        V3        V4        V5  transformed_amount  Class\n",
      "0  0.155432 -0.513165  0.348025 -2.290819  0.412328            0.244887      0\n",
      "1  0.144968  0.984625 -0.469259 -0.559418  0.898427           -0.348685      0\n",
      "2 -0.611349  1.283775 -1.974043 -1.655406  2.984231            1.170169      0\n",
      "3  1.836002 -1.291509 -1.777315 -0.937930 -0.474535            0.139366      0\n",
      "4  2.013508  0.171357 -2.245188  0.936324  0.243521           -0.076805      0\n"
     ]
    }
   ],
   "source": [
    "#build dataframe with first 5 principal components for both the training and the test set\n",
    "FivePC_a = transactions_a[keep_list].copy()\n",
    "FivePC_b = transactions_b[keep_list].copy()\n",
    "print(FivePC_a.head())\n",
    "print(FivePC_b.head())"
   ]
  },
  {
   "cell_type": "code",
   "execution_count": 22,
   "metadata": {},
   "outputs": [
    {
     "name": "stdout",
     "output_type": "stream",
     "text": [
      "         V1        V2        V3        V4        V5  transformed_amount\n",
      "0 -1.359807 -0.072781  2.536347  1.378155 -0.338321            0.244887\n",
      "1  1.191857  0.266151  0.166480  0.448154  0.060018           -0.348685\n",
      "2 -1.358354 -1.340163  1.773209  0.379780 -0.503198            1.170169\n",
      "3 -0.966272 -0.185226  1.792993 -0.863291 -0.010309            0.139366\n",
      "4 -1.158233  0.877737  1.548718  0.403034 -0.407193           -0.076805\n",
      "0    0\n",
      "1    0\n",
      "2    0\n",
      "3    0\n",
      "4    0\n",
      "Name: Class, dtype: int64\n",
      "         V1        V2        V3        V4        V5  transformed_amount\n",
      "0  0.155432 -0.513165  0.348025 -2.290819  0.412328            0.244887\n",
      "1  0.144968  0.984625 -0.469259 -0.559418  0.898427           -0.348685\n",
      "2 -0.611349  1.283775 -1.974043 -1.655406  2.984231            1.170169\n",
      "3  1.836002 -1.291509 -1.777315 -0.937930 -0.474535            0.139366\n",
      "4  2.013508  0.171357 -2.245188  0.936324  0.243521           -0.076805\n",
      "0    0\n",
      "1    0\n",
      "2    0\n",
      "3    0\n",
      "4    0\n",
      "Name: Class, dtype: int64\n"
     ]
    }
   ],
   "source": [
    "#training set 5 principal components\n",
    "X_train5 = FivePC_a.drop('Class', axis = 1)\n",
    "y_train5 = FivePC_a.Class\n",
    "print(X_train5.head())\n",
    "print(y_train5.head())\n",
    "\n",
    "#test set 5 principal components\n",
    "X_test5 = FivePC_b.drop('Class', axis = 1)\n",
    "y_test5 = FivePC_b.Class\n",
    "print(X_test5.head())\n",
    "print(y_test5.head())"
   ]
  },
  {
   "cell_type": "code",
   "execution_count": 23,
   "metadata": {},
   "outputs": [
    {
     "name": "stdout",
     "output_type": "stream",
     "text": [
      "Accuracy of Base Model:  0.9989227932798873\n"
     ]
    }
   ],
   "source": [
    "#First I want to run the logistic regression model to see how it performs without any modifications\n",
    "#for dealing with imbalances\n",
    "\n",
    "LR = LogisticRegression(random_state = 42)\n",
    "base_model = LR.fit(X_train5, y_train5)\n",
    "base_pred = base_model.predict(X_test5)\n",
    "print('Accuracy of Base Model: ', base_model.score(X_test5, y_test5))"
   ]
  },
  {
   "cell_type": "markdown",
   "metadata": {},
   "source": [
    "Based on the accuracy score the base model performed exceptionally well; however, this may be misleading given the imbalance of the data. The model would be highly accurate if it classified most of the transactions as fraudulent. "
   ]
  },
  {
   "cell_type": "code",
   "execution_count": 24,
   "metadata": {},
   "outputs": [
    {
     "name": "stdout",
     "output_type": "stream",
     "text": [
      "              precision    recall  f1-score   support\n",
      "\n",
      "           0       1.00      1.00      1.00     96422\n",
      "           1       0.81      0.21      0.33       124\n",
      "\n",
      "    accuracy                           1.00     96546\n",
      "   macro avg       0.91      0.60      0.67     96546\n",
      "weighted avg       1.00      1.00      1.00     96546\n",
      "\n"
     ]
    }
   ],
   "source": [
    "print(classification_report(y_test5, base_pred))"
   ]
  },
  {
   "cell_type": "markdown",
   "metadata": {},
   "source": [
    "While 81% of the transactions classifed as fradulent were correctly classifed, only 21% of the fraudlent transactions were actually captured by the model. Lets try and fix this using oversampling or undersampling techniques to better balance the data. "
   ]
  },
  {
   "cell_type": "code",
   "execution_count": 31,
   "metadata": {},
   "outputs": [
    {
     "data": {
      "image/png": "[encoded data removed]",
      "text/plain": [
       "<Figure size 648x648 with 2 Axes>"
      ]
     },
     "metadata": {
      "needs_background": "light"
     },
     "output_type": "display_data"
    }
   ],
   "source": [
    "base_cf = confusion_matrix(y_test5, base_pred)\n",
    "\n",
    "fig1, ax= plt.subplots(figsize = (9,9))\n",
    "sns.heatmap(base_cf/np.sum(base_cf), annot=True, \n",
    "            fmt='.2%', cmap='Blues')\n",
    "\n",
    "ax.set_title('Base Model Confusion Matrix'); \n",
    "ax.xaxis.set_ticklabels(['Not Fraud', 'Fraud'])\n",
    "ax.yaxis.set_ticklabels(['Not Fraud', 'Fraud'])\n",
    "\n",
    "plt.show()"
   ]
  },
  {
   "cell_type": "code",
   "execution_count": 25,
   "metadata": {},
   "outputs": [
    {
     "data": {
      "text/plain": [
       "0    187893\n",
       "1    187893\n",
       "Name: Class, dtype: int64"
      ]
     },
     "execution_count": 25,
     "metadata": {},
     "output_type": "execute_result"
    }
   ],
   "source": [
    "#oversample of 5 principal components \n",
    "not_fraud5 = FivePC_a[FivePC_a.Class==0]\n",
    "fraud5 = FivePC_a[FivePC_a.Class==1]\n",
    "\n",
    "fraud_oversampled5 = resample(fraud5,\n",
    "                          replace=True, \n",
    "                          n_samples=len(not_fraud5), \n",
    "                          random_state=27) \n",
    "\n",
    "# combine\n",
    "oversampled5 = pd.concat([not_fraud5, fraud_oversampled5])\n",
    "\n",
    "# check new class counts\n",
    "oversampled5.Class.value_counts()"
   ]
  },
  {
   "cell_type": "code",
   "execution_count": 26,
   "metadata": {},
   "outputs": [
    {
     "name": "stdout",
     "output_type": "stream",
     "text": [
      "Accuracy of Logistic Regression Model on 5 Principal Components:  0.9154910612557744\n"
     ]
    }
   ],
   "source": [
    "#split into X and Y train\n",
    "y_train5_over = oversampled5.Class\n",
    "X_train5_over = oversampled5.drop('Class', axis=1)\n",
    "\n",
    "#run model\n",
    "model5 = LR.fit(X_train5_over, y_train5_over)\n",
    "pred5 = model5.predict(X_test5)\n",
    "\n",
    "print('Accuracy of Logistic Regression Model on 5 Principal Components: ', model5.score(X_test5, y_test5))"
   ]
  },
  {
   "cell_type": "code",
   "execution_count": 27,
   "metadata": {},
   "outputs": [
    {
     "name": "stdout",
     "output_type": "stream",
     "text": [
      "              precision    recall  f1-score   support\n",
      "\n",
      "           0       1.00      0.92      0.96     96422\n",
      "           1       0.01      0.90      0.03       124\n",
      "\n",
      "    accuracy                           0.92     96546\n",
      "   macro avg       0.51      0.91      0.49     96546\n",
      "weighted avg       1.00      0.92      0.95     96546\n",
      "\n"
     ]
    }
   ],
   "source": [
    "print(classification_report(y_test5, pred5))"
   ]
  },
  {
   "cell_type": "markdown",
   "metadata": {},
   "source": [
    "With oversampling we can see that 90% of the fraudulent transactions were captured; however, only 0.1% of the transactions classified as fraudent were correctly classifed. This can pose issues in regards to ineffeciency. Once something is classifed as fraudlent there is research that has to go into validating those claims, so we want to balance the amount of false positves and false negatives."
   ]
  },
  {
   "cell_type": "code",
   "execution_count": 32,
   "metadata": {},
   "outputs": [
    {
     "data": {
      "image/png": "[encoded data removed]",
      "text/plain": [
       "<Figure size 648x648 with 2 Axes>"
      ]
     },
     "metadata": {
      "needs_background": "light"
     },
     "output_type": "display_data"
    }
   ],
   "source": [
    "oversample_cf = confusion_matrix(y_test5, pred5)\n",
    "\n",
    "fig2, ax= plt.subplots(figsize = (9,9))\n",
    "sns.heatmap(oversample_cf/np.sum(oversample_cf), annot=True, \n",
    "            fmt='.2%', cmap='Blues')\n",
    "\n",
    "ax.set_title('Oversample Model Confusion Matrix'); \n",
    "ax.xaxis.set_ticklabels(['Not Fraud', 'Fraud'])\n",
    "ax.yaxis.set_ticklabels(['Not Fraud', 'Fraud'])\n",
    "\n",
    "plt.show()"
   ]
  },
  {
   "cell_type": "code",
   "execution_count": 28,
   "metadata": {},
   "outputs": [
    {
     "data": {
      "text/plain": [
       "0    368\n",
       "1    368\n",
       "Name: Class, dtype: int64"
      ]
     },
     "execution_count": 28,
     "metadata": {},
     "output_type": "execute_result"
    }
   ],
   "source": [
    "#undersample of 5 principal components \n",
    "\n",
    "not_fraud_undersampled5 = resample(not_fraud5,\n",
    "                                replace = False, # sample without replacement\n",
    "                                n_samples = len(fraud5), # match minority n\n",
    "                                random_state = 27) # reproducible results\n",
    "\n",
    "#combine\n",
    "undersampled5 = pd.concat([not_fraud_undersampled5, fraud5])\n",
    "\n",
    "# checking counts\n",
    "undersampled5.Class.value_counts()"
   ]
  },
  {
   "cell_type": "code",
   "execution_count": 29,
   "metadata": {},
   "outputs": [
    {
     "name": "stdout",
     "output_type": "stream",
     "text": [
      "Accuracy of Logistic Regression Model on 5 Principal Components:  0.9103121827936942\n"
     ]
    }
   ],
   "source": [
    "#split into X and Y train\n",
    "y_train5_under = undersampled5.Class\n",
    "X_train5_under = undersampled5.drop('Class', axis=1)\n",
    "\n",
    "#run model\n",
    "model5_under = LR.fit(X_train5_under, y_train5_under)\n",
    "pred5_under = model5_under.predict(X_test5)\n",
    "\n",
    "print('Accuracy of Logistic Regression Model on 5 Principal Components: ', model5_under.score(X_test5, y_test5))"
   ]
  },
  {
   "cell_type": "code",
   "execution_count": 30,
   "metadata": {},
   "outputs": [
    {
     "name": "stdout",
     "output_type": "stream",
     "text": [
      "              precision    recall  f1-score   support\n",
      "\n",
      "           0       1.00      0.91      0.95     96422\n",
      "           1       0.01      0.90      0.02       124\n",
      "\n",
      "    accuracy                           0.91     96546\n",
      "   macro avg       0.51      0.90      0.49     96546\n",
      "weighted avg       1.00      0.91      0.95     96546\n",
      "\n"
     ]
    }
   ],
   "source": [
    "print(classification_report(y_test5, pred5_under))"
   ]
  },
  {
   "cell_type": "markdown",
   "metadata": {},
   "source": [
    "Undersampling performed similarly to oversampling in terms of precision and recall, so as it was lower in accuracy as well, this may not be the best method to training the model. "
   ]
  },
  {
   "cell_type": "code",
   "execution_count": 33,
   "metadata": {},
   "outputs": [
    {
     "data": {
      "image/png": "[encoded data removed]",
      "text/plain": [
       "<Figure size 648x648 with 2 Axes>"
      ]
     },
     "metadata": {
      "needs_background": "light"
     },
     "output_type": "display_data"
    }
   ],
   "source": [
    "undersample_cf = confusion_matrix(y_test5, pred5_under)\n",
    "\n",
    "fig3, ax= plt.subplots(figsize = (9,9))\n",
    "sns.heatmap(undersample_cf/np.sum(undersample_cf), annot=True, \n",
    "            fmt='.2%', cmap='Blues')\n",
    "\n",
    "ax.set_title('Undersample Model Confusion Matrix'); \n",
    "ax.xaxis.set_ticklabels(['Not Fraud', 'Fraud'])\n",
    "ax.yaxis.set_ticklabels(['Not Fraud', 'Fraud'])\n",
    "\n",
    "plt.show()"
   ]
  },
  {
   "cell_type": "markdown",
   "metadata": {},
   "source": [
    "With the logistic regression model it appears that the base model produced the best model in fraud prediction. It allowed for a balance between the percentage of correctly predicted fraudulent transactions and incorrectly predicted non-fraudulent transactions. \n",
    "\n",
    "To an extent I believe that it would be more useful to have model that predicts more false postives versus false negatives when it comes to identifying fraudulent behavior. \n",
    "\n",
    "Now I want to explore if there is a model that will outperform the logistic regression model. In this case we are going to look at a classification tree. Similarly to the Logistic regression model we will look at the base model, oversampled model, and undersampled model for Random Forest Classification. "
   ]
  },
  {
   "cell_type": "code",
   "execution_count": 34,
   "metadata": {},
   "outputs": [
    {
     "name": "stdout",
     "output_type": "stream",
     "text": [
      "Accuracy of Random Forest Base Model:  0.9990885173906738\n"
     ]
    }
   ],
   "source": [
    "#First I want to run the random forest classifier model to see how it performs without any modifications\n",
    "#for dealing with imbalances\n",
    "\n",
    "RF = RandomForestClassifier(random_state = 42)\n",
    "base_model1 = RF.fit(X_train5, y_train5)\n",
    "base_pred1 = base_model1.predict(X_test5)\n",
    "print('Accuracy of Random Forest Base Model: ', base_model1.score(X_test5, y_test5))"
   ]
  },
  {
   "cell_type": "code",
   "execution_count": 35,
   "metadata": {},
   "outputs": [
    {
     "name": "stdout",
     "output_type": "stream",
     "text": [
      "              precision    recall  f1-score   support\n",
      "\n",
      "           0       1.00      1.00      1.00     96422\n",
      "           1       0.88      0.34      0.49       124\n",
      "\n",
      "    accuracy                           1.00     96546\n",
      "   macro avg       0.94      0.67      0.74     96546\n",
      "weighted avg       1.00      1.00      1.00     96546\n",
      "\n"
     ]
    }
   ],
   "source": [
    "print(classification_report(y_test5, base_pred1))"
   ]
  },
  {
   "cell_type": "code",
   "execution_count": 40,
   "metadata": {},
   "outputs": [
    {
     "data": {
      "image/png": "[encoded data removed]",
      "text/plain": [
       "<Figure size 648x648 with 2 Axes>"
      ]
     },
     "metadata": {
      "needs_background": "light"
     },
     "output_type": "display_data"
    }
   ],
   "source": [
    "base_cf1 = confusion_matrix(y_test5, base_pred1)\n",
    "\n",
    "fig1, ax= plt.subplots(figsize = (9,9))\n",
    "sns.heatmap(base_cf1/np.sum(base_cf1), annot=True, \n",
    "            fmt='.2%', cmap='Blues')\n",
    "\n",
    "ax.set_title('Base Model Confusion Matrix'); \n",
    "ax.xaxis.set_ticklabels(['Not Fraud', 'Fraud'])\n",
    "ax.yaxis.set_ticklabels(['Not Fraud', 'Fraud'])\n",
    "\n",
    "plt.show()"
   ]
  },
  {
   "cell_type": "code",
   "execution_count": 36,
   "metadata": {},
   "outputs": [
    {
     "name": "stdout",
     "output_type": "stream",
     "text": [
      "Accuracy of Random Forest Model on 5 Principal Components:  0.9990885173906738\n"
     ]
    }
   ],
   "source": [
    "#oversampled\n",
    "#run model\n",
    "\n",
    "model5_1 = RF.fit(X_train5_over, y_train5_over)\n",
    "pred5_1 = model5_1.predict(X_test5)\n",
    "\n",
    "print('Accuracy of Random Forest Model on 5 Principal Components: ', model5_1.score(X_test5, y_test5))"
   ]
  },
  {
   "cell_type": "code",
   "execution_count": 37,
   "metadata": {},
   "outputs": [
    {
     "name": "stdout",
     "output_type": "stream",
     "text": [
      "              precision    recall  f1-score   support\n",
      "\n",
      "           0       1.00      1.00      1.00     96422\n",
      "           1       0.86      0.35      0.49       124\n",
      "\n",
      "    accuracy                           1.00     96546\n",
      "   macro avg       0.93      0.67      0.75     96546\n",
      "weighted avg       1.00      1.00      1.00     96546\n",
      "\n"
     ]
    }
   ],
   "source": [
    "print(classification_report(y_test5, pred5_1))"
   ]
  },
  {
   "cell_type": "code",
   "execution_count": 41,
   "metadata": {},
   "outputs": [
    {
     "data": {
      "image/png": "[encoded data removed]",
      "text/plain": [
       "<Figure size 648x648 with 2 Axes>"
      ]
     },
     "metadata": {
      "needs_background": "light"
     },
     "output_type": "display_data"
    }
   ],
   "source": [
    "oversample_cf1 = confusion_matrix(y_test5, pred5_1)\n",
    "\n",
    "fig2, ax= plt.subplots(figsize = (9,9))\n",
    "sns.heatmap(oversample_cf1/np.sum(oversample_cf1), annot=True, \n",
    "            fmt='.2%', cmap='Blues')\n",
    "\n",
    "ax.set_title('Oversample Model Confusion Matrix'); \n",
    "ax.xaxis.set_ticklabels(['Not Fraud', 'Fraud'])\n",
    "ax.yaxis.set_ticklabels(['Not Fraud', 'Fraud'])\n",
    "\n",
    "plt.show()"
   ]
  },
  {
   "cell_type": "code",
   "execution_count": 38,
   "metadata": {},
   "outputs": [
    {
     "name": "stdout",
     "output_type": "stream",
     "text": [
      "Accuracy of Random Forest Model on 5 Principal Components:  0.9103121827936942\n"
     ]
    }
   ],
   "source": [
    "#run model\n",
    "model5_under1 = LR.fit(X_train5_under, y_train5_under)\n",
    "pred5_under1 = model5_under1.predict(X_test5)\n",
    "\n",
    "print('Accuracy of Random Forest Model on 5 Principal Components: ', model5_under1.score(X_test5, y_test5))"
   ]
  },
  {
   "cell_type": "code",
   "execution_count": 39,
   "metadata": {},
   "outputs": [
    {
     "name": "stdout",
     "output_type": "stream",
     "text": [
      "              precision    recall  f1-score   support\n",
      "\n",
      "           0       1.00      0.91      0.95     96422\n",
      "           1       0.01      0.90      0.02       124\n",
      "\n",
      "    accuracy                           0.91     96546\n",
      "   macro avg       0.51      0.90      0.49     96546\n",
      "weighted avg       1.00      0.91      0.95     96546\n",
      "\n"
     ]
    }
   ],
   "source": [
    "print(classification_report(y_test5, pred5_under1))"
   ]
  },
  {
   "cell_type": "code",
   "execution_count": 42,
   "metadata": {},
   "outputs": [
    {
     "data": {
      "image/png": "[encoded data removed]",
      "text/plain": [
       "<Figure size 648x648 with 2 Axes>"
      ]
     },
     "metadata": {
      "needs_background": "light"
     },
     "output_type": "display_data"
    }
   ],
   "source": [
    "undersample_cf1 = confusion_matrix(y_test5, pred5_under1)\n",
    "\n",
    "fig3, ax= plt.subplots(figsize = (9,9))\n",
    "sns.heatmap(undersample_cf1/np.sum(undersample_cf1), annot=True, \n",
    "            fmt='.2%', cmap='Blues')\n",
    "\n",
    "ax.set_title('Undersample Model Confusion Matrix'); \n",
    "ax.xaxis.set_ticklabels(['Not Fraud', 'Fraud'])\n",
    "ax.yaxis.set_ticklabels(['Not Fraud', 'Fraud'])\n",
    "\n",
    "plt.show()"
   ]
  },
  {
   "cell_type": "markdown",
   "metadata": {},
   "source": [
    "Out of the three sets of data run on the Random Forest Classification model the undersampling peformed the worst which was similar to the logistic regression and the oversampled model performed slightly better, but similar to the base model. "
   ]
  },
  {
   "cell_type": "markdown",
   "metadata": {},
   "source": [
    "Out of the 6 models created the best performing model was the Random Forest model trained on an oversampled dataset. It had the highest percentage of correctly classifed fraudulent transactions and the lowest number of incorrectly classifed fraudulent transactions. We are going to do a grid search cross validation on this model to tune the hyperparameters. "
   ]
  },
  {
   "cell_type": "code",
   "execution_count": 43,
   "metadata": {},
   "outputs": [
    {
     "data": {
      "text/plain": [
       "{'bootstrap': True,\n",
       " 'ccp_alpha': 0.0,\n",
       " 'class_weight': None,\n",
       " 'criterion': 'gini',\n",
       " 'max_depth': None,\n",
       " 'max_features': 'sqrt',\n",
       " 'max_leaf_nodes': None,\n",
       " 'max_samples': None,\n",
       " 'min_impurity_decrease': 0.0,\n",
       " 'min_samples_leaf': 1,\n",
       " 'min_samples_split': 2,\n",
       " 'min_weight_fraction_leaf': 0.0,\n",
       " 'n_estimators': 100,\n",
       " 'n_jobs': None,\n",
       " 'oob_score': False,\n",
       " 'random_state': 42,\n",
       " 'verbose': 0,\n",
       " 'warm_start': False}"
      ]
     },
     "execution_count": 43,
     "metadata": {},
     "output_type": "execute_result"
    }
   ],
   "source": [
    "model5_1.get_params()"
   ]
  },
  {
   "cell_type": "code",
   "execution_count": 44,
   "metadata": {},
   "outputs": [
    {
     "data": {
      "text/plain": [
       "[(24, 24, None),\n",
       " (25, 25, None),\n",
       " (30, 30, None),\n",
       " (27, 27, None),\n",
       " (23, 23, None),\n",
       " (24, 24, None),\n",
       " (26, 26, None),\n",
       " (27, 27, None),\n",
       " (28, 28, None),\n",
       " (20, 20, None),\n",
       " (27, 27, None),\n",
       " (22, 22, None),\n",
       " (31, 31, None),\n",
       " (27, 27, None),\n",
       " (25, 25, None),\n",
       " (25, 25, None),\n",
       " (26, 26, None),\n",
       " (28, 28, None),\n",
       " (24, 24, None),\n",
       " (26, 26, None),\n",
       " (24, 24, None),\n",
       " (23, 23, None),\n",
       " (25, 25, None),\n",
       " (23, 23, None),\n",
       " (24, 24, None),\n",
       " (26, 26, None),\n",
       " (28, 28, None),\n",
       " (27, 27, None),\n",
       " (28, 28, None),\n",
       " (22, 22, None),\n",
       " (30, 30, None),\n",
       " (26, 26, None),\n",
       " (29, 29, None),\n",
       " (21, 21, None),\n",
       " (23, 23, None),\n",
       " (23, 23, None),\n",
       " (23, 23, None),\n",
       " (25, 25, None),\n",
       " (25, 25, None),\n",
       " (26, 26, None),\n",
       " (29, 29, None),\n",
       " (31, 31, None),\n",
       " (25, 25, None),\n",
       " (26, 26, None),\n",
       " (27, 27, None),\n",
       " (27, 27, None),\n",
       " (23, 23, None),\n",
       " (23, 23, None),\n",
       " (21, 21, None),\n",
       " (27, 27, None),\n",
       " (25, 25, None),\n",
       " (21, 21, None),\n",
       " (27, 27, None),\n",
       " (26, 26, None),\n",
       " (23, 23, None),\n",
       " (24, 24, None),\n",
       " (24, 24, None),\n",
       " (23, 23, None),\n",
       " (24, 24, None),\n",
       " (27, 27, None),\n",
       " (26, 26, None),\n",
       " (23, 23, None),\n",
       " (22, 22, None),\n",
       " (26, 26, None),\n",
       " (25, 25, None),\n",
       " (26, 26, None),\n",
       " (23, 23, None),\n",
       " (23, 23, None),\n",
       " (32, 32, None),\n",
       " (20, 20, None),\n",
       " (23, 23, None),\n",
       " (26, 26, None),\n",
       " (30, 30, None),\n",
       " (23, 23, None),\n",
       " (28, 28, None),\n",
       " (27, 27, None),\n",
       " (20, 20, None),\n",
       " (28, 28, None),\n",
       " (24, 24, None),\n",
       " (23, 23, None),\n",
       " (24, 24, None),\n",
       " (26, 26, None),\n",
       " (21, 21, None),\n",
       " (25, 25, None),\n",
       " (28, 28, None),\n",
       " (28, 28, None),\n",
       " (25, 25, None),\n",
       " (25, 25, None),\n",
       " (22, 22, None),\n",
       " (28, 28, None),\n",
       " (20, 20, None),\n",
       " (23, 23, None),\n",
       " (29, 29, None),\n",
       " (26, 26, None),\n",
       " (26, 26, None),\n",
       " (23, 23, None),\n",
       " (23, 23, None),\n",
       " (22, 22, None),\n",
       " (28, 28, None),\n",
       " (24, 24, None)]"
      ]
     },
     "execution_count": 44,
     "metadata": {},
     "output_type": "execute_result"
    }
   ],
   "source": [
    "[(est.get_depth(), est.tree_.max_depth, est.max_depth) for est in model5_1.estimators_]"
   ]
  },
  {
   "cell_type": "code",
   "execution_count": 45,
   "metadata": {},
   "outputs": [
    {
     "data": {
      "text/plain": [
       "{'bootstrap': False, 'max_depth': 50, 'max_features': 'log2', 'n_jobs': -1}"
      ]
     },
     "execution_count": 45,
     "metadata": {},
     "output_type": "execute_result"
    }
   ],
   "source": [
    "grid = [{'bootstrap': [True, False], 'max_features': ['log2', 'sqrt'], 'n_jobs': [-1],\n",
    "         'max_depth': [10,20,50]}]\n",
    "grid_search = GridSearchCV(model5_1, grid, cv =5)\n",
    "grid_search.fit(X_train5_over, y_train5_over)\n",
    "grid_search.best_params_"
   ]
  },
  {
   "cell_type": "code",
   "execution_count": 46,
   "metadata": {},
   "outputs": [
    {
     "data": {
      "text/html": [
       "<style>#sk-container-id-1 {color: black;background-color: white;}#sk-container-id-1 pre{padding: 0;}#sk-container-id-1 div.sk-toggleable {background-color: white;}#sk-container-id-1 label.sk-toggleable__label {cursor: pointer;display: block;width: 100%;margin-bottom: 0;padding: 0.3em;box-sizing: border-box;text-align: center;}#sk-container-id-1 label.sk-toggleable__label-arrow:before {content: \"▸\";float: left;margin-right: 0.25em;color: #696969;}#sk-container-id-1 label.sk-toggleable__label-arrow:hover:before {color: black;}#sk-container-id-1 div.sk-estimator:hover label.sk-toggleable__label-arrow:before {color: black;}#sk-container-id-1 div.sk-toggleable__content {max-height: 0;max-width: 0;overflow: hidden;text-align: left;background-color: #f0f8ff;}#sk-container-id-1 div.sk-toggleable__content pre {margin: 0.2em;color: black;border-radius: 0.25em;background-color: #f0f8ff;}#sk-container-id-1 input.sk-toggleable__control:checked~div.sk-toggleable__content {max-height: 200px;max-width: 100%;overflow: auto;}#sk-container-id-1 input.sk-toggleable__control:checked~label.sk-toggleable__label-arrow:before {content: \"▾\";}#sk-container-id-1 div.sk-estimator input.sk-toggleable__control:checked~label.sk-toggleable__label {background-color: #d4ebff;}#sk-container-id-1 div.sk-label input.sk-toggleable__control:checked~label.sk-toggleable__label {background-color: #d4ebff;}#sk-container-id-1 input.sk-hidden--visually {border: 0;clip: rect(1px 1px 1px 1px);clip: rect(1px, 1px, 1px, 1px);height: 1px;margin: -1px;overflow: hidden;padding: 0;position: absolute;width: 1px;}#sk-container-id-1 div.sk-estimator {font-family: monospace;background-color: #f0f8ff;border: 1px dotted black;border-radius: 0.25em;box-sizing: border-box;margin-bottom: 0.5em;}#sk-container-id-1 div.sk-estimator:hover {background-color: #d4ebff;}#sk-container-id-1 div.sk-parallel-item::after {content: \"\";width: 100%;border-bottom: 1px solid gray;flex-grow: 1;}#sk-container-id-1 div.sk-label:hover label.sk-toggleable__label {background-color: #d4ebff;}#sk-container-id-1 div.sk-serial::before {content: \"\";position: absolute;border-left: 1px solid gray;box-sizing: border-box;top: 0;bottom: 0;left: 50%;z-index: 0;}#sk-container-id-1 div.sk-serial {display: flex;flex-direction: column;align-items: center;background-color: white;padding-right: 0.2em;padding-left: 0.2em;position: relative;}#sk-container-id-1 div.sk-item {position: relative;z-index: 1;}#sk-container-id-1 div.sk-parallel {display: flex;align-items: stretch;justify-content: center;background-color: white;position: relative;}#sk-container-id-1 div.sk-item::before, #sk-container-id-1 div.sk-parallel-item::before {content: \"\";position: absolute;border-left: 1px solid gray;box-sizing: border-box;top: 0;bottom: 0;left: 50%;z-index: -1;}#sk-container-id-1 div.sk-parallel-item {display: flex;flex-direction: column;z-index: 1;position: relative;background-color: white;}#sk-container-id-1 div.sk-parallel-item:first-child::after {align-self: flex-end;width: 50%;}#sk-container-id-1 div.sk-parallel-item:last-child::after {align-self: flex-start;width: 50%;}#sk-container-id-1 div.sk-parallel-item:only-child::after {width: 0;}#sk-container-id-1 div.sk-dashed-wrapped {border: 1px dashed gray;margin: 0 0.4em 0.5em 0.4em;box-sizing: border-box;padding-bottom: 0.4em;background-color: white;}#sk-container-id-1 div.sk-label label {font-family: monospace;font-weight: bold;display: inline-block;line-height: 1.2em;}#sk-container-id-1 div.sk-label-container {text-align: center;}#sk-container-id-1 div.sk-container {/* jupyter's `normalize.less` sets `[hidden] { display: none; }` but bootstrap.min.css set `[hidden] { display: none !important; }` so we also need the `!important` here to be able to override the default hidden behavior on the sphinx rendered scikit-learn.org. See: https://github.com/scikit-learn/scikit-learn/issues/21755 */display: inline-block !important;position: relative;}#sk-container-id-1 div.sk-text-repr-fallback {display: none;}</style><div id=\"sk-container-id-1\" class=\"sk-top-container\"><div class=\"sk-text-repr-fallback\"><pre>RandomForestClassifier(bootstrap=False, max_depth=50, max_features=&#x27;log2&#x27;,\n",
       "                       n_jobs=-1, random_state=42)</pre><b>In a Jupyter environment, please rerun this cell to show the HTML representation or trust the notebook. <br />On GitHub, the HTML representation is unable to render, please try loading this page with nbviewer.org.</b></div><div class=\"sk-container\" hidden><div class=\"sk-item\"><div class=\"sk-estimator sk-toggleable\"><input class=\"sk-toggleable__control sk-hidden--visually\" id=\"sk-estimator-id-1\" type=\"checkbox\" checked><label for=\"sk-estimator-id-1\" class=\"sk-toggleable__label sk-toggleable__label-arrow\">RandomForestClassifier</label><div class=\"sk-toggleable__content\"><pre>RandomForestClassifier(bootstrap=False, max_depth=50, max_features=&#x27;log2&#x27;,\n",
       "                       n_jobs=-1, random_state=42)</pre></div></div></div></div></div>"
      ],
      "text/plain": [
       "RandomForestClassifier(bootstrap=False, max_depth=50, max_features='log2',\n",
       "                       n_jobs=-1, random_state=42)"
      ]
     },
     "execution_count": 46,
     "metadata": {},
     "output_type": "execute_result"
    }
   ],
   "source": [
    "grid_search.best_estimator_"
   ]
  },
  {
   "cell_type": "code",
   "execution_count": 47,
   "metadata": {},
   "outputs": [
    {
     "name": "stdout",
     "output_type": "stream",
     "text": [
      "Accuracy of best model:  0.9990056553352806\n"
     ]
    }
   ],
   "source": [
    "print('Accuracy of best model: ', grid_search.score(X_test5, y_test5))"
   ]
  },
  {
   "cell_type": "code",
   "execution_count": 48,
   "metadata": {},
   "outputs": [
    {
     "data": {
      "image/png": "[encoded data removed]",
      "text/plain": [
       "<Figure size 648x648 with 2 Axes>"
      ]
     },
     "metadata": {
      "needs_background": "light"
     },
     "output_type": "display_data"
    }
   ],
   "source": [
    "final_pred = grid_search.predict(X_test5)\n",
    "\n",
    "best_cf = confusion_matrix(y_test5, final_pred)\n",
    "\n",
    "fig4, ax= plt.subplots(figsize = (9,9))\n",
    "sns.heatmap(best_cf/np.sum(best_cf), annot=True, \n",
    "            fmt='.2%', cmap='Blues')\n",
    "\n",
    "ax.set_title('Best Model Confusion Matrix'); \n",
    "ax.xaxis.set_ticklabels(['Not Fraud', 'Fraud'])\n",
    "ax.yaxis.set_ticklabels(['Not Fraud', 'Fraud'])\n",
    "\n",
    "plt.show()"
   ]
  },
  {
   "cell_type": "code",
   "execution_count": 49,
   "metadata": {},
   "outputs": [
    {
     "data": {
      "text/plain": [
       "[(0.04900429388764037, 'transformed_amount'),\n",
       " (0.08824292712832339, 'V1'),\n",
       " (0.10259196995593084, 'V5'),\n",
       " (0.15832648753507117, 'V2'),\n",
       " (0.24932009166538777, 'V3'),\n",
       " (0.3525142298276465, 'V4')]"
      ]
     },
     "execution_count": 49,
     "metadata": {},
     "output_type": "execute_result"
    }
   ],
   "source": [
    "sorted(zip(model5_1.feature_importances_, X_train5_over))"
   ]
  },
  {
   "cell_type": "markdown",
   "metadata": {},
   "source": [
    "The 4th and 3rd principal components were the most important features of this model"
   ]
  },
  {
   "cell_type": "markdown",
   "metadata": {},
   "source": [
    "# Looking Into Biasing the Model"
   ]
  },
  {
   "cell_type": "markdown",
   "metadata": {},
   "source": [
    "For credit card fraud detection it is more costly for the instituition if a transaction is misclassified as non-fraudlent when it is in fact fraudulent. In this case we would want our model to add more weight into predicting False Positives. "
   ]
  },
  {
   "cell_type": "code",
   "execution_count": 50,
   "metadata": {},
   "outputs": [],
   "source": [
    "cost_RF = RandomForestClassifier(class_weight = {0:.25, 1:2.75}, max_depth = 15, random_state = 42)\n",
    "cost_model = cost_RF.fit(X_train5_over, y_train5_over)\n",
    "cost_pred = cost_model.predict(X_test5)"
   ]
  },
  {
   "cell_type": "code",
   "execution_count": 51,
   "metadata": {},
   "outputs": [
    {
     "data": {
      "image/png": "[encoded data removed]",
      "text/plain": [
       "<Figure size 648x648 with 2 Axes>"
      ]
     },
     "metadata": {
      "needs_background": "light"
     },
     "output_type": "display_data"
    }
   ],
   "source": [
    "cost_cf = confusion_matrix(y_test5, cost_pred)\n",
    "fig4, ax= plt.subplots(figsize = (9,9))\n",
    "sns.heatmap(cost_cf/np.sum(cost_cf), annot=True, \n",
    "            fmt='.2%', cmap='Blues')\n",
    "\n",
    "ax.set_title('Cost Effective Model Confusion Matrix'); \n",
    "ax.xaxis.set_ticklabels(['Not Fraud', 'Fraud'])\n",
    "ax.yaxis.set_ticklabels(['Not Fraud', 'Fraud'])\n",
    "\n",
    "plt.show()"
   ]
  },
  {
   "cell_type": "code",
   "execution_count": 52,
   "metadata": {},
   "outputs": [
    {
     "name": "stdout",
     "output_type": "stream",
     "text": [
      "              precision    recall  f1-score   support\n",
      "\n",
      "           0       1.00      1.00      1.00     96422\n",
      "           1       0.16      0.65      0.25       124\n",
      "\n",
      "    accuracy                           1.00     96546\n",
      "   macro avg       0.58      0.82      0.62     96546\n",
      "weighted avg       1.00      1.00      1.00     96546\n",
      "\n"
     ]
    }
   ],
   "source": [
    "print(classification_report(y_test5, cost_pred))"
   ]
  },
  {
   "cell_type": "code",
   "execution_count": 53,
   "metadata": {},
   "outputs": [
    {
     "data": {
      "text/plain": [
       "{'bootstrap': True,\n",
       " 'ccp_alpha': 0.0,\n",
       " 'class_weight': {0: 0.25, 1: 2.75},\n",
       " 'criterion': 'gini',\n",
       " 'max_depth': 15,\n",
       " 'max_features': 'sqrt',\n",
       " 'max_leaf_nodes': None,\n",
       " 'max_samples': None,\n",
       " 'min_impurity_decrease': 0.0,\n",
       " 'min_samples_leaf': 1,\n",
       " 'min_samples_split': 2,\n",
       " 'min_weight_fraction_leaf': 0.0,\n",
       " 'n_estimators': 100,\n",
       " 'n_jobs': None,\n",
       " 'oob_score': False,\n",
       " 'random_state': 42,\n",
       " 'verbose': 0,\n",
       " 'warm_start': False}"
      ]
     },
     "execution_count": 53,
     "metadata": {},
     "output_type": "execute_result"
    }
   ],
   "source": [
    "cost_model.get_params()"
   ]
  },
  {
   "cell_type": "markdown",
   "metadata": {},
   "source": [
    "By changing the class weights of the Random Forest Classifier as well as decrease the depth, we were able to dramatically increase the amount of false positives and reduce the amount of false negatives. This way we are able to reduce the cost associated with not catching a fradulent transaction. However, by biasing the model we sacrifice precision for recall. In this case precision for prediction fraudulent transactions dropped from 0.84 with our best model to 0.13 while recall increased from 0.37 to 0.59. As well our f1-score decreased. "
   ]
  },
  {
   "cell_type": "markdown",
   "metadata": {},
   "source": [
    "# Root Cause Analysis"
   ]
  },
  {
   "cell_type": "markdown",
   "metadata": {},
   "source": [
    "In this section we will investigate to see if we can find any commonalities between the records that are misclassified."
   ]
  },
  {
   "cell_type": "code",
   "execution_count": 54,
   "metadata": {},
   "outputs": [
    {
     "data": {
      "text/html": [
       "<div>\n",
       "<style scoped>\n",
       "    .dataframe tbody tr th:only-of-type {\n",
       "        vertical-align: middle;\n",
       "    }\n",
       "\n",
       "    .dataframe tbody tr th {\n",
       "        vertical-align: top;\n",
       "    }\n",
       "\n",
       "    .dataframe thead th {\n",
       "        text-align: right;\n",
       "    }\n",
       "</style>\n",
       "<table border=\"1\" class=\"dataframe\">\n",
       "  <thead>\n",
       "    <tr style=\"text-align: right;\">\n",
       "      <th></th>\n",
       "      <th>V1</th>\n",
       "      <th>V2</th>\n",
       "      <th>V3</th>\n",
       "      <th>V4</th>\n",
       "      <th>V5</th>\n",
       "      <th>transformed_amount</th>\n",
       "      <th>Class</th>\n",
       "      <th>Prediction</th>\n",
       "      <th>Amount</th>\n",
       "    </tr>\n",
       "  </thead>\n",
       "  <tbody>\n",
       "    <tr>\n",
       "      <th>0</th>\n",
       "      <td>0.155432</td>\n",
       "      <td>-0.513165</td>\n",
       "      <td>0.348025</td>\n",
       "      <td>-2.290819</td>\n",
       "      <td>0.412328</td>\n",
       "      <td>0.244887</td>\n",
       "      <td>0</td>\n",
       "      <td>0</td>\n",
       "      <td>30.43</td>\n",
       "    </tr>\n",
       "    <tr>\n",
       "      <th>1</th>\n",
       "      <td>0.144968</td>\n",
       "      <td>0.984625</td>\n",
       "      <td>-0.469259</td>\n",
       "      <td>-0.559418</td>\n",
       "      <td>0.898427</td>\n",
       "      <td>-0.348685</td>\n",
       "      <td>0</td>\n",
       "      <td>0</td>\n",
       "      <td>9.98</td>\n",
       "    </tr>\n",
       "    <tr>\n",
       "      <th>2</th>\n",
       "      <td>-0.611349</td>\n",
       "      <td>1.283775</td>\n",
       "      <td>-1.974043</td>\n",
       "      <td>-1.655406</td>\n",
       "      <td>2.984231</td>\n",
       "      <td>1.170169</td>\n",
       "      <td>0</td>\n",
       "      <td>0</td>\n",
       "      <td>1.98</td>\n",
       "    </tr>\n",
       "    <tr>\n",
       "      <th>3</th>\n",
       "      <td>1.836002</td>\n",
       "      <td>-1.291509</td>\n",
       "      <td>-1.777315</td>\n",
       "      <td>-0.937930</td>\n",
       "      <td>-0.474535</td>\n",
       "      <td>0.139366</td>\n",
       "      <td>0</td>\n",
       "      <td>0</td>\n",
       "      <td>210.00</td>\n",
       "    </tr>\n",
       "    <tr>\n",
       "      <th>4</th>\n",
       "      <td>2.013508</td>\n",
       "      <td>0.171357</td>\n",
       "      <td>-2.245188</td>\n",
       "      <td>0.936324</td>\n",
       "      <td>0.243521</td>\n",
       "      <td>-0.076805</td>\n",
       "      <td>0</td>\n",
       "      <td>0</td>\n",
       "      <td>12.31</td>\n",
       "    </tr>\n",
       "  </tbody>\n",
       "</table>\n",
       "</div>"
      ],
      "text/plain": [
       "         V1        V2        V3        V4        V5  transformed_amount  \\\n",
       "0  0.155432 -0.513165  0.348025 -2.290819  0.412328            0.244887   \n",
       "1  0.144968  0.984625 -0.469259 -0.559418  0.898427           -0.348685   \n",
       "2 -0.611349  1.283775 -1.974043 -1.655406  2.984231            1.170169   \n",
       "3  1.836002 -1.291509 -1.777315 -0.937930 -0.474535            0.139366   \n",
       "4  2.013508  0.171357 -2.245188  0.936324  0.243521           -0.076805   \n",
       "\n",
       "   Class  Prediction  Amount  \n",
       "0      0           0   30.43  \n",
       "1      0           0    9.98  \n",
       "2      0           0    1.98  \n",
       "3      0           0  210.00  \n",
       "4      0           0   12.31  "
      ]
     },
     "execution_count": 54,
     "metadata": {},
     "output_type": "execute_result"
    }
   ],
   "source": [
    "unbiased = FivePC_b.copy()\n",
    "unbiased['Prediction'] = pred5_1\n",
    "unbiased['Amount'] = transactions_b['Amount']\n",
    "unbiased.head()"
   ]
  },
  {
   "cell_type": "code",
   "execution_count": 55,
   "metadata": {},
   "outputs": [
    {
     "data": {
      "text/html": [
       "<div>\n",
       "<style scoped>\n",
       "    .dataframe tbody tr th:only-of-type {\n",
       "        vertical-align: middle;\n",
       "    }\n",
       "\n",
       "    .dataframe tbody tr th {\n",
       "        vertical-align: top;\n",
       "    }\n",
       "\n",
       "    .dataframe thead th {\n",
       "        text-align: right;\n",
       "    }\n",
       "</style>\n",
       "<table border=\"1\" class=\"dataframe\">\n",
       "  <thead>\n",
       "    <tr style=\"text-align: right;\">\n",
       "      <th></th>\n",
       "      <th>V1</th>\n",
       "      <th>V2</th>\n",
       "      <th>V3</th>\n",
       "      <th>V4</th>\n",
       "      <th>V5</th>\n",
       "      <th>transformed_amount</th>\n",
       "      <th>Class</th>\n",
       "      <th>Prediction</th>\n",
       "      <th>Amount</th>\n",
       "    </tr>\n",
       "  </thead>\n",
       "  <tbody>\n",
       "    <tr>\n",
       "      <th>1561</th>\n",
       "      <td>-5.227966</td>\n",
       "      <td>0.369520</td>\n",
       "      <td>-5.010226</td>\n",
       "      <td>5.063297</td>\n",
       "      <td>0.312231</td>\n",
       "      <td>-0.341413</td>\n",
       "      <td>0</td>\n",
       "      <td>1</td>\n",
       "      <td>112.27</td>\n",
       "    </tr>\n",
       "    <tr>\n",
       "      <th>6600</th>\n",
       "      <td>-3.053283</td>\n",
       "      <td>-0.178224</td>\n",
       "      <td>-3.533756</td>\n",
       "      <td>4.907345</td>\n",
       "      <td>-1.758248</td>\n",
       "      <td>-0.307236</td>\n",
       "      <td>0</td>\n",
       "      <td>1</td>\n",
       "      <td>628.56</td>\n",
       "    </tr>\n",
       "    <tr>\n",
       "      <th>31871</th>\n",
       "      <td>0.982346</td>\n",
       "      <td>3.453083</td>\n",
       "      <td>-4.905300</td>\n",
       "      <td>5.719395</td>\n",
       "      <td>2.656346</td>\n",
       "      <td>-0.352321</td>\n",
       "      <td>0</td>\n",
       "      <td>1</td>\n",
       "      <td>0.77</td>\n",
       "    </tr>\n",
       "    <tr>\n",
       "      <th>40244</th>\n",
       "      <td>-1.068669</td>\n",
       "      <td>4.016917</td>\n",
       "      <td>-3.366334</td>\n",
       "      <td>3.586212</td>\n",
       "      <td>3.395280</td>\n",
       "      <td>-0.358663</td>\n",
       "      <td>0</td>\n",
       "      <td>1</td>\n",
       "      <td>0.77</td>\n",
       "    </tr>\n",
       "    <tr>\n",
       "      <th>46437</th>\n",
       "      <td>-1.047816</td>\n",
       "      <td>2.482353</td>\n",
       "      <td>-4.025920</td>\n",
       "      <td>4.522588</td>\n",
       "      <td>-3.108121</td>\n",
       "      <td>-0.303035</td>\n",
       "      <td>0</td>\n",
       "      <td>1</td>\n",
       "      <td>831.17</td>\n",
       "    </tr>\n",
       "    <tr>\n",
       "      <th>71264</th>\n",
       "      <td>-1.690612</td>\n",
       "      <td>2.119855</td>\n",
       "      <td>-0.963569</td>\n",
       "      <td>3.603465</td>\n",
       "      <td>-1.025391</td>\n",
       "      <td>-0.339596</td>\n",
       "      <td>0</td>\n",
       "      <td>1</td>\n",
       "      <td>223.78</td>\n",
       "    </tr>\n",
       "    <tr>\n",
       "      <th>79153</th>\n",
       "      <td>-1.068723</td>\n",
       "      <td>0.004500</td>\n",
       "      <td>-3.875803</td>\n",
       "      <td>4.913447</td>\n",
       "      <td>-5.719842</td>\n",
       "      <td>0.255794</td>\n",
       "      <td>0</td>\n",
       "      <td>1</td>\n",
       "      <td>1575.21</td>\n",
       "    </tr>\n",
       "  </tbody>\n",
       "</table>\n",
       "</div>"
      ],
      "text/plain": [
       "             V1        V2        V3        V4        V5  transformed_amount  \\\n",
       "1561  -5.227966  0.369520 -5.010226  5.063297  0.312231           -0.341413   \n",
       "6600  -3.053283 -0.178224 -3.533756  4.907345 -1.758248           -0.307236   \n",
       "31871  0.982346  3.453083 -4.905300  5.719395  2.656346           -0.352321   \n",
       "40244 -1.068669  4.016917 -3.366334  3.586212  3.395280           -0.358663   \n",
       "46437 -1.047816  2.482353 -4.025920  4.522588 -3.108121           -0.303035   \n",
       "71264 -1.690612  2.119855 -0.963569  3.603465 -1.025391           -0.339596   \n",
       "79153 -1.068723  0.004500 -3.875803  4.913447 -5.719842            0.255794   \n",
       "\n",
       "       Class  Prediction   Amount  \n",
       "1561       0           1   112.27  \n",
       "6600       0           1   628.56  \n",
       "31871      0           1     0.77  \n",
       "40244      0           1     0.77  \n",
       "46437      0           1   831.17  \n",
       "71264      0           1   223.78  \n",
       "79153      0           1  1575.21  "
      ]
     },
     "execution_count": 55,
     "metadata": {},
     "output_type": "execute_result"
    }
   ],
   "source": [
    "#False positive mis-classifcation\n",
    "FP_unbiased = unbiased[(unbiased['Class'] == 0) & (unbiased['Prediction'] == 1)]\n",
    "FP_unbiased"
   ]
  },
  {
   "cell_type": "code",
   "execution_count": 56,
   "metadata": {},
   "outputs": [
    {
     "data": {
      "text/html": [
       "<div>\n",
       "<style scoped>\n",
       "    .dataframe tbody tr th:only-of-type {\n",
       "        vertical-align: middle;\n",
       "    }\n",
       "\n",
       "    .dataframe tbody tr th {\n",
       "        vertical-align: top;\n",
       "    }\n",
       "\n",
       "    .dataframe thead th {\n",
       "        text-align: right;\n",
       "    }\n",
       "</style>\n",
       "<table border=\"1\" class=\"dataframe\">\n",
       "  <thead>\n",
       "    <tr style=\"text-align: right;\">\n",
       "      <th></th>\n",
       "      <th>V1</th>\n",
       "      <th>V2</th>\n",
       "      <th>V3</th>\n",
       "      <th>V4</th>\n",
       "      <th>V5</th>\n",
       "      <th>transformed_amount</th>\n",
       "      <th>Class</th>\n",
       "      <th>Prediction</th>\n",
       "      <th>Amount</th>\n",
       "    </tr>\n",
       "  </thead>\n",
       "  <tbody>\n",
       "    <tr>\n",
       "      <th>count</th>\n",
       "      <td>7.000000</td>\n",
       "      <td>7.000000</td>\n",
       "      <td>7.000000</td>\n",
       "      <td>7.000000</td>\n",
       "      <td>7.000000</td>\n",
       "      <td>7.000000</td>\n",
       "      <td>7.0</td>\n",
       "      <td>7.0</td>\n",
       "      <td>7.000000</td>\n",
       "    </tr>\n",
       "    <tr>\n",
       "      <th>mean</th>\n",
       "      <td>-1.739246</td>\n",
       "      <td>1.752572</td>\n",
       "      <td>-3.668701</td>\n",
       "      <td>4.616535</td>\n",
       "      <td>-0.749678</td>\n",
       "      <td>-0.249496</td>\n",
       "      <td>0.0</td>\n",
       "      <td>1.0</td>\n",
       "      <td>481.790000</td>\n",
       "    </tr>\n",
       "    <tr>\n",
       "      <th>std</th>\n",
       "      <td>1.944421</td>\n",
       "      <td>1.702108</td>\n",
       "      <td>1.349490</td>\n",
       "      <td>0.783723</td>\n",
       "      <td>3.195501</td>\n",
       "      <td>0.223821</td>\n",
       "      <td>0.0</td>\n",
       "      <td>0.0</td>\n",
       "      <td>578.078683</td>\n",
       "    </tr>\n",
       "    <tr>\n",
       "      <th>min</th>\n",
       "      <td>-5.227966</td>\n",
       "      <td>-0.178224</td>\n",
       "      <td>-5.010226</td>\n",
       "      <td>3.586212</td>\n",
       "      <td>-5.719842</td>\n",
       "      <td>-0.358663</td>\n",
       "      <td>0.0</td>\n",
       "      <td>1.0</td>\n",
       "      <td>0.770000</td>\n",
       "    </tr>\n",
       "    <tr>\n",
       "      <th>25%</th>\n",
       "      <td>-2.371947</td>\n",
       "      <td>0.187010</td>\n",
       "      <td>-4.465610</td>\n",
       "      <td>4.063026</td>\n",
       "      <td>-2.433185</td>\n",
       "      <td>-0.346867</td>\n",
       "      <td>0.0</td>\n",
       "      <td>1.0</td>\n",
       "      <td>56.520000</td>\n",
       "    </tr>\n",
       "    <tr>\n",
       "      <th>50%</th>\n",
       "      <td>-1.068723</td>\n",
       "      <td>2.119855</td>\n",
       "      <td>-3.875803</td>\n",
       "      <td>4.907345</td>\n",
       "      <td>-1.025391</td>\n",
       "      <td>-0.339596</td>\n",
       "      <td>0.0</td>\n",
       "      <td>1.0</td>\n",
       "      <td>223.780000</td>\n",
       "    </tr>\n",
       "    <tr>\n",
       "      <th>75%</th>\n",
       "      <td>-1.058243</td>\n",
       "      <td>2.967718</td>\n",
       "      <td>-3.450045</td>\n",
       "      <td>4.988372</td>\n",
       "      <td>1.484288</td>\n",
       "      <td>-0.305136</td>\n",
       "      <td>0.0</td>\n",
       "      <td>1.0</td>\n",
       "      <td>729.865000</td>\n",
       "    </tr>\n",
       "    <tr>\n",
       "      <th>max</th>\n",
       "      <td>0.982346</td>\n",
       "      <td>4.016917</td>\n",
       "      <td>-0.963569</td>\n",
       "      <td>5.719395</td>\n",
       "      <td>3.395280</td>\n",
       "      <td>0.255794</td>\n",
       "      <td>0.0</td>\n",
       "      <td>1.0</td>\n",
       "      <td>1575.210000</td>\n",
       "    </tr>\n",
       "  </tbody>\n",
       "</table>\n",
       "</div>"
      ],
      "text/plain": [
       "             V1        V2        V3        V4        V5  transformed_amount  \\\n",
       "count  7.000000  7.000000  7.000000  7.000000  7.000000            7.000000   \n",
       "mean  -1.739246  1.752572 -3.668701  4.616535 -0.749678           -0.249496   \n",
       "std    1.944421  1.702108  1.349490  0.783723  3.195501            0.223821   \n",
       "min   -5.227966 -0.178224 -5.010226  3.586212 -5.719842           -0.358663   \n",
       "25%   -2.371947  0.187010 -4.465610  4.063026 -2.433185           -0.346867   \n",
       "50%   -1.068723  2.119855 -3.875803  4.907345 -1.025391           -0.339596   \n",
       "75%   -1.058243  2.967718 -3.450045  4.988372  1.484288           -0.305136   \n",
       "max    0.982346  4.016917 -0.963569  5.719395  3.395280            0.255794   \n",
       "\n",
       "       Class  Prediction       Amount  \n",
       "count    7.0         7.0     7.000000  \n",
       "mean     0.0         1.0   481.790000  \n",
       "std      0.0         0.0   578.078683  \n",
       "min      0.0         1.0     0.770000  \n",
       "25%      0.0         1.0    56.520000  \n",
       "50%      0.0         1.0   223.780000  \n",
       "75%      0.0         1.0   729.865000  \n",
       "max      0.0         1.0  1575.210000  "
      ]
     },
     "execution_count": 56,
     "metadata": {},
     "output_type": "execute_result"
    }
   ],
   "source": [
    "FP_unbiased.describe()"
   ]
  },
  {
   "cell_type": "code",
   "execution_count": 57,
   "metadata": {},
   "outputs": [
    {
     "data": {
      "text/html": [
       "<div>\n",
       "<style scoped>\n",
       "    .dataframe tbody tr th:only-of-type {\n",
       "        vertical-align: middle;\n",
       "    }\n",
       "\n",
       "    .dataframe tbody tr th {\n",
       "        vertical-align: top;\n",
       "    }\n",
       "\n",
       "    .dataframe thead th {\n",
       "        text-align: right;\n",
       "    }\n",
       "</style>\n",
       "<table border=\"1\" class=\"dataframe\">\n",
       "  <thead>\n",
       "    <tr style=\"text-align: right;\">\n",
       "      <th></th>\n",
       "      <th>V1</th>\n",
       "      <th>V2</th>\n",
       "      <th>V3</th>\n",
       "      <th>V4</th>\n",
       "      <th>V5</th>\n",
       "      <th>transformed_amount</th>\n",
       "      <th>Class</th>\n",
       "      <th>Prediction</th>\n",
       "      <th>Amount</th>\n",
       "    </tr>\n",
       "  </thead>\n",
       "  <tbody>\n",
       "    <tr>\n",
       "      <th>1617</th>\n",
       "      <td>-5.313774</td>\n",
       "      <td>2.664274</td>\n",
       "      <td>-4.250707</td>\n",
       "      <td>0.394707</td>\n",
       "      <td>-0.391383</td>\n",
       "      <td>-0.355512</td>\n",
       "      <td>1</td>\n",
       "      <td>0</td>\n",
       "      <td>1.00</td>\n",
       "    </tr>\n",
       "    <tr>\n",
       "      <th>2813</th>\n",
       "      <td>-1.836940</td>\n",
       "      <td>-1.646764</td>\n",
       "      <td>-3.381168</td>\n",
       "      <td>0.473354</td>\n",
       "      <td>0.074243</td>\n",
       "      <td>1.626911</td>\n",
       "      <td>1</td>\n",
       "      <td>0</td>\n",
       "      <td>720.80</td>\n",
       "    </tr>\n",
       "    <tr>\n",
       "      <th>3006</th>\n",
       "      <td>0.290155</td>\n",
       "      <td>0.049243</td>\n",
       "      <td>-0.740524</td>\n",
       "      <td>2.865463</td>\n",
       "      <td>1.395294</td>\n",
       "      <td>-0.267081</td>\n",
       "      <td>1</td>\n",
       "      <td>0</td>\n",
       "      <td>7.18</td>\n",
       "    </tr>\n",
       "    <tr>\n",
       "      <th>3098</th>\n",
       "      <td>1.177824</td>\n",
       "      <td>2.487103</td>\n",
       "      <td>-5.330608</td>\n",
       "      <td>5.324547</td>\n",
       "      <td>1.150243</td>\n",
       "      <td>-0.175942</td>\n",
       "      <td>1</td>\n",
       "      <td>0</td>\n",
       "      <td>4.87</td>\n",
       "    </tr>\n",
       "    <tr>\n",
       "      <th>4121</th>\n",
       "      <td>0.753356</td>\n",
       "      <td>2.284988</td>\n",
       "      <td>-5.164492</td>\n",
       "      <td>3.831112</td>\n",
       "      <td>-0.073622</td>\n",
       "      <td>-0.200221</td>\n",
       "      <td>1</td>\n",
       "      <td>0</td>\n",
       "      <td>2.00</td>\n",
       "    </tr>\n",
       "    <tr>\n",
       "      <th>...</th>\n",
       "      <td>...</td>\n",
       "      <td>...</td>\n",
       "      <td>...</td>\n",
       "      <td>...</td>\n",
       "      <td>...</td>\n",
       "      <td>...</td>\n",
       "      <td>...</td>\n",
       "      <td>...</td>\n",
       "      <td>...</td>\n",
       "    </tr>\n",
       "    <tr>\n",
       "      <th>91602</th>\n",
       "      <td>-1.927883</td>\n",
       "      <td>1.125653</td>\n",
       "      <td>-4.518331</td>\n",
       "      <td>1.749293</td>\n",
       "      <td>-1.566487</td>\n",
       "      <td>-0.355512</td>\n",
       "      <td>1</td>\n",
       "      <td>0</td>\n",
       "      <td>390.00</td>\n",
       "    </tr>\n",
       "    <tr>\n",
       "      <th>91882</th>\n",
       "      <td>1.378559</td>\n",
       "      <td>1.289381</td>\n",
       "      <td>-5.004247</td>\n",
       "      <td>1.411850</td>\n",
       "      <td>0.442581</td>\n",
       "      <td>-0.319194</td>\n",
       "      <td>1</td>\n",
       "      <td>0</td>\n",
       "      <td>0.76</td>\n",
       "    </tr>\n",
       "    <tr>\n",
       "      <th>91888</th>\n",
       "      <td>-0.676143</td>\n",
       "      <td>1.126366</td>\n",
       "      <td>-2.213700</td>\n",
       "      <td>0.468308</td>\n",
       "      <td>-1.120541</td>\n",
       "      <td>-0.352321</td>\n",
       "      <td>1</td>\n",
       "      <td>0</td>\n",
       "      <td>77.89</td>\n",
       "    </tr>\n",
       "    <tr>\n",
       "      <th>92883</th>\n",
       "      <td>-3.113832</td>\n",
       "      <td>0.585864</td>\n",
       "      <td>-5.399730</td>\n",
       "      <td>1.817092</td>\n",
       "      <td>-0.840618</td>\n",
       "      <td>-0.298955</td>\n",
       "      <td>1</td>\n",
       "      <td>0</td>\n",
       "      <td>245.00</td>\n",
       "    </tr>\n",
       "    <tr>\n",
       "      <th>93413</th>\n",
       "      <td>1.991976</td>\n",
       "      <td>0.158476</td>\n",
       "      <td>-2.583441</td>\n",
       "      <td>0.408670</td>\n",
       "      <td>1.151147</td>\n",
       "      <td>-0.329294</td>\n",
       "      <td>1</td>\n",
       "      <td>0</td>\n",
       "      <td>42.53</td>\n",
       "    </tr>\n",
       "  </tbody>\n",
       "</table>\n",
       "<p>81 rows × 9 columns</p>\n",
       "</div>"
      ],
      "text/plain": [
       "             V1        V2        V3        V4        V5  transformed_amount  \\\n",
       "1617  -5.313774  2.664274 -4.250707  0.394707 -0.391383           -0.355512   \n",
       "2813  -1.836940 -1.646764 -3.381168  0.473354  0.074243            1.626911   \n",
       "3006   0.290155  0.049243 -0.740524  2.865463  1.395294           -0.267081   \n",
       "3098   1.177824  2.487103 -5.330608  5.324547  1.150243           -0.175942   \n",
       "4121   0.753356  2.284988 -5.164492  3.831112 -0.073622           -0.200221   \n",
       "...         ...       ...       ...       ...       ...                 ...   \n",
       "91602 -1.927883  1.125653 -4.518331  1.749293 -1.566487           -0.355512   \n",
       "91882  1.378559  1.289381 -5.004247  1.411850  0.442581           -0.319194   \n",
       "91888 -0.676143  1.126366 -2.213700  0.468308 -1.120541           -0.352321   \n",
       "92883 -3.113832  0.585864 -5.399730  1.817092 -0.840618           -0.298955   \n",
       "93413  1.991976  0.158476 -2.583441  0.408670  1.151147           -0.329294   \n",
       "\n",
       "       Class  Prediction  Amount  \n",
       "1617       1           0    1.00  \n",
       "2813       1           0  720.80  \n",
       "3006       1           0    7.18  \n",
       "3098       1           0    4.87  \n",
       "4121       1           0    2.00  \n",
       "...      ...         ...     ...  \n",
       "91602      1           0  390.00  \n",
       "91882      1           0    0.76  \n",
       "91888      1           0   77.89  \n",
       "92883      1           0  245.00  \n",
       "93413      1           0   42.53  \n",
       "\n",
       "[81 rows x 9 columns]"
      ]
     },
     "execution_count": 57,
     "metadata": {},
     "output_type": "execute_result"
    }
   ],
   "source": [
    "#False negative mis-classification\n",
    "FN_unbiased = unbiased[(unbiased['Class'] == 1) & (unbiased['Prediction'] == 0)]\n",
    "FN_unbiased"
   ]
  },
  {
   "cell_type": "code",
   "execution_count": 58,
   "metadata": {},
   "outputs": [
    {
     "data": {
      "text/html": [
       "<div>\n",
       "<style scoped>\n",
       "    .dataframe tbody tr th:only-of-type {\n",
       "        vertical-align: middle;\n",
       "    }\n",
       "\n",
       "    .dataframe tbody tr th {\n",
       "        vertical-align: top;\n",
       "    }\n",
       "\n",
       "    .dataframe thead th {\n",
       "        text-align: right;\n",
       "    }\n",
       "</style>\n",
       "<table border=\"1\" class=\"dataframe\">\n",
       "  <thead>\n",
       "    <tr style=\"text-align: right;\">\n",
       "      <th></th>\n",
       "      <th>V1</th>\n",
       "      <th>V2</th>\n",
       "      <th>V3</th>\n",
       "      <th>V4</th>\n",
       "      <th>V5</th>\n",
       "      <th>transformed_amount</th>\n",
       "      <th>Class</th>\n",
       "      <th>Prediction</th>\n",
       "      <th>Amount</th>\n",
       "    </tr>\n",
       "  </thead>\n",
       "  <tbody>\n",
       "    <tr>\n",
       "      <th>count</th>\n",
       "      <td>81.000000</td>\n",
       "      <td>81.000000</td>\n",
       "      <td>81.000000</td>\n",
       "      <td>81.000000</td>\n",
       "      <td>81.000000</td>\n",
       "      <td>81.000000</td>\n",
       "      <td>81.0</td>\n",
       "      <td>81.0</td>\n",
       "      <td>81.000000</td>\n",
       "    </tr>\n",
       "    <tr>\n",
       "      <th>mean</th>\n",
       "      <td>-1.452434</td>\n",
       "      <td>0.669208</td>\n",
       "      <td>-3.689529</td>\n",
       "      <td>2.877586</td>\n",
       "      <td>0.718430</td>\n",
       "      <td>-0.064869</td>\n",
       "      <td>1.0</td>\n",
       "      <td>0.0</td>\n",
       "      <td>167.029136</td>\n",
       "    </tr>\n",
       "    <tr>\n",
       "      <th>std</th>\n",
       "      <td>2.644650</td>\n",
       "      <td>2.495434</td>\n",
       "      <td>1.957323</td>\n",
       "      <td>2.009294</td>\n",
       "      <td>2.138663</td>\n",
       "      <td>0.451089</td>\n",
       "      <td>0.0</td>\n",
       "      <td>0.0</td>\n",
       "      <td>316.793470</td>\n",
       "    </tr>\n",
       "    <tr>\n",
       "      <th>min</th>\n",
       "      <td>-7.503926</td>\n",
       "      <td>-8.402154</td>\n",
       "      <td>-6.978585</td>\n",
       "      <td>-0.755458</td>\n",
       "      <td>-4.011781</td>\n",
       "      <td>-0.359552</td>\n",
       "      <td>1.0</td>\n",
       "      <td>0.0</td>\n",
       "      <td>0.000000</td>\n",
       "    </tr>\n",
       "    <tr>\n",
       "      <th>25%</th>\n",
       "      <td>-3.158990</td>\n",
       "      <td>-0.360628</td>\n",
       "      <td>-5.388316</td>\n",
       "      <td>1.411850</td>\n",
       "      <td>-0.391383</td>\n",
       "      <td>-0.329294</td>\n",
       "      <td>1.0</td>\n",
       "      <td>0.0</td>\n",
       "      <td>1.000000</td>\n",
       "    </tr>\n",
       "    <tr>\n",
       "      <th>50%</th>\n",
       "      <td>-1.053840</td>\n",
       "      <td>1.289381</td>\n",
       "      <td>-3.829762</td>\n",
       "      <td>2.588033</td>\n",
       "      <td>0.474761</td>\n",
       "      <td>-0.234681</td>\n",
       "      <td>1.0</td>\n",
       "      <td>0.0</td>\n",
       "      <td>8.300000</td>\n",
       "    </tr>\n",
       "    <tr>\n",
       "      <th>75%</th>\n",
       "      <td>0.753356</td>\n",
       "      <td>2.284988</td>\n",
       "      <td>-2.333469</td>\n",
       "      <td>4.617410</td>\n",
       "      <td>1.407133</td>\n",
       "      <td>0.003992</td>\n",
       "      <td>1.0</td>\n",
       "      <td>0.0</td>\n",
       "      <td>195.660000</td>\n",
       "    </tr>\n",
       "    <tr>\n",
       "      <th>max</th>\n",
       "      <td>2.132386</td>\n",
       "      <td>4.672553</td>\n",
       "      <td>0.733222</td>\n",
       "      <td>7.143500</td>\n",
       "      <td>9.880564</td>\n",
       "      <td>1.907195</td>\n",
       "      <td>1.0</td>\n",
       "      <td>0.0</td>\n",
       "      <td>1504.930000</td>\n",
       "    </tr>\n",
       "  </tbody>\n",
       "</table>\n",
       "</div>"
      ],
      "text/plain": [
       "              V1         V2         V3         V4         V5  \\\n",
       "count  81.000000  81.000000  81.000000  81.000000  81.000000   \n",
       "mean   -1.452434   0.669208  -3.689529   2.877586   0.718430   \n",
       "std     2.644650   2.495434   1.957323   2.009294   2.138663   \n",
       "min    -7.503926  -8.402154  -6.978585  -0.755458  -4.011781   \n",
       "25%    -3.158990  -0.360628  -5.388316   1.411850  -0.391383   \n",
       "50%    -1.053840   1.289381  -3.829762   2.588033   0.474761   \n",
       "75%     0.753356   2.284988  -2.333469   4.617410   1.407133   \n",
       "max     2.132386   4.672553   0.733222   7.143500   9.880564   \n",
       "\n",
       "       transformed_amount  Class  Prediction       Amount  \n",
       "count           81.000000   81.0        81.0    81.000000  \n",
       "mean            -0.064869    1.0         0.0   167.029136  \n",
       "std              0.451089    0.0         0.0   316.793470  \n",
       "min             -0.359552    1.0         0.0     0.000000  \n",
       "25%             -0.329294    1.0         0.0     1.000000  \n",
       "50%             -0.234681    1.0         0.0     8.300000  \n",
       "75%              0.003992    1.0         0.0   195.660000  \n",
       "max              1.907195    1.0         0.0  1504.930000  "
      ]
     },
     "execution_count": 58,
     "metadata": {},
     "output_type": "execute_result"
    }
   ],
   "source": [
    "FN_unbiased.describe()"
   ]
  },
  {
   "cell_type": "code",
   "execution_count": 59,
   "metadata": {},
   "outputs": [
    {
     "data": {
      "image/png": "[encoded data removed]",
      "text/plain": [
       "<Figure size 864x864 with 2 Axes>"
      ]
     },
     "metadata": {
      "needs_background": "light"
     },
     "output_type": "display_data"
    }
   ],
   "source": [
    "fig6, axes = plt.subplots(1,2,figsize = (12,12))\n",
    "axes[0].hist('Amount', data = FP_unbiased, bins = 50)\n",
    "axes[0].set_title('False Positives')\n",
    "axes[1].hist('Amount', data = FN_unbiased, bins = 50)\n",
    "axes[1].set_title('False Negatives')\n",
    "plt.show()"
   ]
  },
  {
   "cell_type": "markdown",
   "metadata": {},
   "source": [
    "It appears based on the descriptive statistics and the histograms that the items that were classifed as non-fraudulent, but were fraudulent (False Negatives) were due to the transactions having a lower spend amount. The case is similarly true for the transactions classified as fraudulent, but were non-fraudulent (False Positives). These transactions had a higher average spend amount. "
   ]
  }
 ],
 "metadata": {
  "kernelspec": {
   "display_name": "Python 3 (ipykernel)",
   "language": "python",
   "name": "python3"
  },
  "language_info": {
   "codemirror_mode": {
    "name": "ipython",
    "version": 3
   },
   "file_extension": ".py",
   "mimetype": "text/x-python",
   "name": "python",
   "nbconvert_exporter": "python",
   "pygments_lexer": "ipython3",
   "version": "3.10.2"
  }
 },
 "nbformat": 4,
 "nbformat_minor": 2
}
